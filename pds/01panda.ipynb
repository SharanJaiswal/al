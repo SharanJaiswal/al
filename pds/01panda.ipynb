{
 "metadata": {
  "language_info": {
   "codemirror_mode": {
    "name": "ipython",
    "version": 3
   },
   "file_extension": ".py",
   "mimetype": "text/x-python",
   "name": "python",
   "nbconvert_exporter": "python",
   "pygments_lexer": "ipython3",
   "version": "3.8.5"
  },
  "orig_nbformat": 4,
  "kernelspec": {
   "name": "python3",
   "display_name": "Python 3.8.5 64-bit ('base': conda)"
  },
  "interpreter": {
   "hash": "a6570200391abd47b22bafa3ab36aba8327b6bca09374d4d4cb5f21cfca217ce"
  }
 },
 "nbformat": 4,
 "nbformat_minor": 2,
 "cells": [
  {
   "source": [
    "# Pandas Datatype\n",
    "## pandas.Series\n",
    "1. strictly homo and 1-D data structures\n",
    "2. No need to apply loops and if for conditions\n",
    "3. uses [] to access elements by indexes\n",
    "4. indexes can be numbers or text\n",
    "\n",
    "## pandas.DataFrame\n",
    "1. 2-D data structures\n",
    "2. combo of multiple series\n",
    "3. Equiv to regular tables"
   ],
   "cell_type": "markdown",
   "metadata": {}
  },
  {
   "cell_type": "code",
   "execution_count": 2,
   "metadata": {},
   "outputs": [],
   "source": [
    "import pandas as pd"
   ]
  },
  {
   "cell_type": "code",
   "execution_count": 3,
   "metadata": {},
   "outputs": [
    {
     "output_type": "stream",
     "name": "stdout",
     "text": [
      "[12, 34, 56, 32, 12, 3, 4, 57, 54, 46, 56, 78, 99, 100, 23]\n0      12\n1      34\n2      56\n3      32\n4      12\n5       3\n6       4\n7      57\n8      54\n9      46\n10     56\n11     78\n12     99\n13    100\n14     23\ndtype: int64\n"
     ]
    }
   ],
   "source": [
    "l1 = [12,34,56,32,12,3,4,57,54,46,56,78,99,100,23]\n",
    "print(l1)\n",
    "\n",
    "ser1 = pd.Series(l1)\n",
    "print(ser1)"
   ]
  },
  {
   "cell_type": "code",
   "execution_count": 4,
   "metadata": {},
   "outputs": [
    {
     "output_type": "stream",
     "name": "stdout",
     "text": [
      "1      12\n2      34\n3      56\n4      32\n5      12\n6       3\n7       4\n8      57\n9      54\n10     46\n11     56\n12     78\n13     99\n14    100\n15     23\ndtype: int64\n"
     ]
    }
   ],
   "source": [
    "# for pd.Series, indexes can also be user defined\n",
    "ser2 = pd.Series(l1, index= range(1,len(l1)+1))\n",
    "# index takes a list as input - \n",
    "#        i. elements should be unique\n",
    "#        ii. the size of the list should be same as the size of the series\n",
    "print(ser2)"
   ]
  },
  {
   "cell_type": "code",
   "execution_count": 5,
   "metadata": {},
   "outputs": [
    {
     "output_type": "stream",
     "name": "stdout",
     "text": [
      "a            12\nb            34\nc            56\nd            32\ne            12\nf             3\ng             4\nh            57\n0            54\nj            46\n23           56\n2            78\nword_idx     99\nz           100\n1            23\ndtype: int64\n"
     ]
    }
   ],
   "source": [
    "ser3 = pd.Series(l1, index = ['a', 'b', 'c', 'd', 'e', 'f', 'g', 'h', 0, 'j', 23, 2, 'word_idx', 'z', 1])\n",
    "print(ser3)"
   ]
  },
  {
   "source": [
    "index to series can be \n",
    "\n",
    "1. Default (.iloc[]) 0 to n-1. It stays forever internally. If user doesnt define its own index, then both int and ext idx are from 0 to n-1, n:number of elements in series\n",
    "2. User defined (.loc[]). Ext index is same as of user defined. Int idx is 0 to n-1. loc supports internal index but if ext idx is defined, then loc wont support ext idx. Hence, unless ext idx is defined, loc is preffered for both row and col fetching"
   ],
   "cell_type": "markdown",
   "metadata": {}
  },
  {
   "cell_type": "code",
   "execution_count": 6,
   "metadata": {},
   "outputs": [
    {
     "output_type": "execute_result",
     "data": {
      "text/plain": [
       "12"
      ]
     },
     "metadata": {},
     "execution_count": 6
    }
   ],
   "source": [
    "ser4 = pd.Series(l1, index=['a','b','c','d','e','f','g','h','i','j','k','l','m','n','o'])\n",
    "ser4.loc['a']\n",
    "# ser4.loc[0]       it wont work"
   ]
  },
  {
   "cell_type": "code",
   "execution_count": 7,
   "metadata": {},
   "outputs": [
    {
     "output_type": "stream",
     "name": "stdout",
     "text": [
      "32\n32 54 23\n99\n"
     ]
    }
   ],
   "source": [
    "print(l1[3])\n",
    "# ser2\n",
    "# access fourth element - element with def index as 3\n",
    "print(ser3.iloc[3], ser3.loc[0], ser3[1])\n",
    "print(ser3['word_idx'])"
   ]
  },
  {
   "cell_type": "code",
   "execution_count": 8,
   "metadata": {},
   "outputs": [
    {
     "output_type": "stream",
     "name": "stdout",
     "text": [
      "0    12\n1    34\n2    56\n3    32\n4    12\n5     3\n6     4\n7    57\ndtype: int64\n1    12\n2    34\n3    56\n4    32\n5    12\n6     3\n7     4\n8    57\ndtype: int64\n"
     ]
    }
   ],
   "source": [
    "print(ser1.iloc[0:8])   # rhl will be omitted. ser1 dont have ext idx\n",
    "print(ser2.iloc[0:8])   # rhl will be omitted. ser2 have ext idx\n",
    "# both will give seven rows, but the internal indexing is same in both series. On printing, ext idx overrides to display in ser2."
   ]
  },
  {
   "cell_type": "code",
   "execution_count": 9,
   "metadata": {},
   "outputs": [
    {
     "output_type": "stream",
     "name": "stdout",
     "text": [
      "1      12\n2      34\n3      56\n4      32\n5      12\n6       3\n7       4\n8      57\n9      54\n10     46\n11     56\n12     78\n13     99\n14    100\n15     23\ndtype: int64\n"
     ]
    }
   ],
   "source": [
    "print(ser2.iloc[0:80])  # only int idx which are valid within range wll be displayed without errors"
   ]
  },
  {
   "cell_type": "code",
   "execution_count": 10,
   "metadata": {},
   "outputs": [
    {
     "output_type": "stream",
     "name": "stdout",
     "text": [
      "1    12\n2    34\n3    56\n4    32\n5    12\n6     3\n7     4\n8    57\n9    54\ndtype: int64\n1      12\n2      34\n3      56\n4      32\n5      12\n6       3\n7       4\n8      57\n9      54\n10     46\n11     56\n12     78\n13     99\n14    100\n15     23\ndtype: int64\n"
     ]
    }
   ],
   "source": [
    "print(ser2.loc[1:9]) # Contrary to the regular 1,2,3,4,5,6,7,8 a colon op in .loc will get 1,2,3,4,5,6,7,8,9\n",
    "print(ser2.loc[0:90])  # only the valid row with ext idx within the range will be displayed without throwing any errors"
   ]
  },
  {
   "source": [
    "#### Applying conditions to series"
   ],
   "cell_type": "markdown",
   "metadata": {}
  },
  {
   "cell_type": "code",
   "execution_count": 11,
   "metadata": {},
   "outputs": [
    {
     "output_type": "execute_result",
     "data": {
      "text/plain": [
       "0     False\n",
       "1      True\n",
       "2      True\n",
       "3      True\n",
       "4     False\n",
       "5     False\n",
       "6     False\n",
       "7      True\n",
       "8      True\n",
       "9      True\n",
       "10     True\n",
       "11     True\n",
       "12     True\n",
       "13     True\n",
       "14    False\n",
       "dtype: bool"
      ]
     },
     "metadata": {},
     "execution_count": 11
    }
   ],
   "source": [
    "ser1 > 30"
   ]
  },
  {
   "cell_type": "code",
   "execution_count": 12,
   "metadata": {},
   "outputs": [
    {
     "output_type": "execute_result",
     "data": {
      "text/plain": [
       "1      34\n",
       "2      56\n",
       "3      32\n",
       "7      57\n",
       "8      54\n",
       "9      46\n",
       "10     56\n",
       "11     78\n",
       "12     99\n",
       "13    100\n",
       "dtype: int64"
      ]
     },
     "metadata": {},
     "execution_count": 12
    }
   ],
   "source": [
    "ser1[ser1 > 30]"
   ]
  },
  {
   "cell_type": "code",
   "execution_count": 13,
   "metadata": {},
   "outputs": [
    {
     "output_type": "execute_result",
     "data": {
      "text/plain": [
       "1     34\n",
       "2     56\n",
       "3     32\n",
       "7     57\n",
       "8     54\n",
       "9     46\n",
       "10    56\n",
       "11    78\n",
       "dtype: int64"
      ]
     },
     "metadata": {},
     "execution_count": 13
    }
   ],
   "source": [
    "ser1[(ser1 > 30) & (ser1 < 80)] # comparision happens on series\n",
    "\n",
    "#and &\n",
    "#or  |\n",
    "#not ~"
   ]
  },
  {
   "cell_type": "code",
   "execution_count": 14,
   "metadata": {},
   "outputs": [
    {
     "output_type": "execute_result",
     "data": {
      "text/plain": [
       "1     34\n",
       "2     56\n",
       "3     32\n",
       "7     57\n",
       "8     54\n",
       "9     46\n",
       "10    56\n",
       "11    78\n",
       "dtype: int64"
      ]
     },
     "metadata": {},
     "execution_count": 14
    }
   ],
   "source": [
    "ser1.loc[(ser1 > 30) & (ser1 < 80)]\n",
    "# mentioning .loc is the conventional way of applying the conditions, because loc can take boolean values. iloc cant take boolean values."
   ]
  },
  {
   "source": [
    "### Functions associated with series"
   ],
   "cell_type": "markdown",
   "metadata": {}
  },
  {
   "cell_type": "code",
   "execution_count": 15,
   "metadata": {},
   "outputs": [
    {
     "output_type": "stream",
     "name": "stdout",
     "text": [
      "['T', '_AXIS_LEN', '_AXIS_ORDERS', '_AXIS_REVERSED', '_AXIS_TO_AXIS_NUMBER', '_HANDLED_TYPES', '__abs__', '__add__', '__and__', '__annotations__', '__array__', '__array_priority__', '__array_ufunc__', '__array_wrap__', '__bool__', '__class__', '__contains__', '__copy__', '__deepcopy__', '__delattr__', '__delitem__', '__dict__', '__dir__', '__divmod__', '__doc__', '__eq__', '__finalize__', '__float__', '__floordiv__', '__format__', '__ge__', '__getattr__', '__getattribute__', '__getitem__', '__getstate__', '__gt__', '__hash__', '__iadd__', '__iand__', '__ifloordiv__', '__imod__', '__imul__', '__init__', '__init_subclass__', '__int__', '__invert__', '__ior__', '__ipow__', '__isub__', '__iter__', '__itruediv__', '__ixor__', '__le__', '__len__', '__long__', '__lt__', '__matmul__', '__mod__', '__module__', '__mul__', '__ne__', '__neg__', '__new__', '__nonzero__', '__or__', '__pos__', '__pow__', '__radd__', '__rand__', '__rdivmod__', '__reduce__', '__reduce_ex__', '__repr__', '__rfloordiv__', '__rmatmul__', '__rmod__', '__rmul__', '__ror__', '__round__', '__rpow__', '__rsub__', '__rtruediv__', '__rxor__', '__setattr__', '__setitem__', '__setstate__', '__sizeof__', '__str__', '__sub__', '__subclasshook__', '__truediv__', '__weakref__', '__xor__', '_accessors', '_accum_func', '_add_numeric_operations', '_agg_by_level', '_agg_examples_doc', '_agg_see_also_doc', '_align_frame', '_align_series', '_arith_method', '_attrs', '_binop', '_builtin_table', '_can_hold_na', '_check_inplace_and_allows_duplicate_labels', '_check_inplace_setting', '_check_is_chained_assignment_possible', '_check_label_or_level_ambiguity', '_check_setitem_copy', '_clear_item_cache', '_clip_with_one_bound', '_clip_with_scalar', '_cmp_method', '_consolidate', '_consolidate_inplace', '_construct_axes_dict', '_construct_axes_from_arguments', '_construct_result', '_constructor', '_constructor_expanddim', '_constructor_sliced', '_convert', '_convert_dtypes', '_cython_table', '_data', '_dir_additions', '_dir_deletions', '_drop_axis', '_drop_labels_or_levels', '_find_valid_index', '_flags', '_get_axis', '_get_axis_name', '_get_axis_number', '_get_axis_resolvers', '_get_block_manager_axis', '_get_bool_data', '_get_cacher', '_get_cleaned_column_resolvers', '_get_cython_func', '_get_index_resolvers', '_get_item_cache', '_get_label_or_level_values', '_get_numeric_data', '_get_value', '_get_values', '_get_values_tuple', '_get_with', '_gotitem', '_hidden_attrs', '_index', '_indexed_same', '_info_axis', '_info_axis_name', '_info_axis_number', '_init_dict', '_init_mgr', '_inplace_method', '_internal_names', '_internal_names_set', '_is_builtin_func', '_is_cached', '_is_copy', '_is_label_or_level_reference', '_is_label_reference', '_is_level_reference', '_is_mixed_type', '_is_view', '_iset_item', '_item_cache', '_ix', '_ixs', '_logical_func', '_logical_method', '_map_values', '_maybe_cache_changed', '_maybe_update_cacher', '_metadata', '_mgr', '_min_count_stat_function', '_name', '_needs_reindex_multi', '_obj_with_exclusions', '_protect_consolidate', '_reduce', '_reindex_axes', '_reindex_indexer', '_reindex_multi', '_reindex_with_indexers', '_replace_single', '_repr_data_resource_', '_repr_latex_', '_reset_cache', '_reset_cacher', '_selected_obj', '_selection', '_selection_list', '_selection_name', '_set_as_cached', '_set_axis', '_set_axis_name', '_set_axis_nocheck', '_set_is_copy', '_set_item', '_set_labels', '_set_name', '_set_value', '_set_values', '_set_with', '_set_with_engine', '_slice', '_stat_axis', '_stat_axis_name', '_stat_axis_number', '_stat_function', '_stat_function_ddof', '_take_with_is_copy', '_to_dict_of_blocks', '_try_aggregate_string_function', '_typ', '_update_inplace', '_validate_dtype', '_values', '_where', 'abs', 'add', 'add_prefix', 'add_suffix', 'agg', 'aggregate', 'align', 'all', 'any', 'append', 'apply', 'argmax', 'argmin', 'argsort', 'array', 'asfreq', 'asof', 'astype', 'at', 'at_time', 'attrs', 'autocorr', 'axes', 'backfill', 'between', 'between_time', 'bfill', 'bool', 'clip', 'combine', 'combine_first', 'compare', 'convert_dtypes', 'copy', 'corr', 'count', 'cov', 'cummax', 'cummin', 'cumprod', 'cumsum', 'describe', 'diff', 'div', 'divide', 'divmod', 'dot', 'drop', 'drop_duplicates', 'droplevel', 'dropna', 'dtype', 'dtypes', 'duplicated', 'empty', 'eq', 'equals', 'ewm', 'expanding', 'explode', 'factorize', 'ffill', 'fillna', 'filter', 'first', 'first_valid_index', 'flags', 'floordiv', 'ge', 'get', 'groupby', 'gt', 'hasnans', 'head', 'hist', 'iat', 'idxmax', 'idxmin', 'iloc', 'index', 'infer_objects', 'interpolate', 'is_monotonic', 'is_monotonic_decreasing', 'is_monotonic_increasing', 'is_unique', 'isin', 'isna', 'isnull', 'item', 'items', 'iteritems', 'keys', 'kurt', 'kurtosis', 'last', 'last_valid_index', 'le', 'loc', 'lt', 'mad', 'map', 'mask', 'max', 'mean', 'median', 'memory_usage', 'min', 'mod', 'mode', 'mul', 'multiply', 'name', 'nbytes', 'ndim', 'ne', 'nlargest', 'notna', 'notnull', 'nsmallest', 'nunique', 'pad', 'pct_change', 'pipe', 'plot', 'pop', 'pow', 'prod', 'product', 'quantile', 'radd', 'rank', 'ravel', 'rdiv', 'rdivmod', 'reindex', 'reindex_like', 'rename', 'rename_axis', 'reorder_levels', 'repeat', 'replace', 'resample', 'reset_index', 'rfloordiv', 'rmod', 'rmul', 'rolling', 'round', 'rpow', 'rsub', 'rtruediv', 'sample', 'searchsorted', 'sem', 'set_axis', 'set_flags', 'shape', 'shift', 'size', 'skew', 'slice_shift', 'sort_index', 'sort_values', 'squeeze', 'std', 'sub', 'subtract', 'sum', 'swapaxes', 'swaplevel', 'tail', 'take', 'to_clipboard', 'to_csv', 'to_dict', 'to_excel', 'to_frame', 'to_hdf', 'to_json', 'to_latex', 'to_list', 'to_markdown', 'to_numpy', 'to_period', 'to_pickle', 'to_sql', 'to_string', 'to_timestamp', 'to_xarray', 'transform', 'transpose', 'truediv', 'truncate', 'tz_convert', 'tz_localize', 'unique', 'unstack', 'update', 'value_counts', 'values', 'var', 'view', 'where', 'xs']\n"
     ]
    }
   ],
   "source": [
    "print(dir(ser1))"
   ]
  },
  {
   "cell_type": "code",
   "execution_count": 16,
   "metadata": {},
   "outputs": [
    {
     "output_type": "execute_result",
     "data": {
      "text/plain": [
       "666"
      ]
     },
     "metadata": {},
     "execution_count": 16
    }
   ],
   "source": [
    "ser1.sum()"
   ]
  },
  {
   "cell_type": "code",
   "execution_count": 17,
   "metadata": {},
   "outputs": [
    {
     "output_type": "execute_result",
     "data": {
      "text/plain": [
       "44.4"
      ]
     },
     "metadata": {},
     "execution_count": 17
    }
   ],
   "source": [
    "ser1.mean() "
   ]
  },
  {
   "cell_type": "code",
   "execution_count": 18,
   "metadata": {},
   "outputs": [
    {
     "output_type": "execute_result",
     "data": {
      "text/plain": [
       "46.0"
      ]
     },
     "metadata": {},
     "execution_count": 18
    }
   ],
   "source": [
    "ser1.median()"
   ]
  },
  {
   "cell_type": "code",
   "execution_count": 19,
   "metadata": {},
   "outputs": [
    {
     "output_type": "execute_result",
     "data": {
      "text/plain": [
       "0    12\n",
       "1    56\n",
       "dtype: int64"
      ]
     },
     "metadata": {},
     "execution_count": 19
    }
   ],
   "source": [
    "ser1.mode() # always gives a dataframe, even if only one mode is possible"
   ]
  },
  {
   "cell_type": "code",
   "execution_count": 20,
   "metadata": {},
   "outputs": [
    {
     "output_type": "execute_result",
     "data": {
      "text/plain": [
       "3"
      ]
     },
     "metadata": {},
     "execution_count": 20
    }
   ],
   "source": [
    "ser1.min()"
   ]
  },
  {
   "cell_type": "code",
   "execution_count": 21,
   "metadata": {},
   "outputs": [
    {
     "output_type": "execute_result",
     "data": {
      "text/plain": [
       "100"
      ]
     },
     "metadata": {},
     "execution_count": 21
    }
   ],
   "source": [
    "ser1.max()"
   ]
  },
  {
   "cell_type": "code",
   "execution_count": 74,
   "metadata": {},
   "outputs": [
    {
     "output_type": "execute_result",
     "data": {
      "text/plain": [
       "0.00      3.0\n",
       "0.25     17.5\n",
       "0.50     46.0\n",
       "0.75     56.5\n",
       "0.65     56.0\n",
       "1.00    100.0\n",
       "dtype: float64"
      ]
     },
     "metadata": {},
     "execution_count": 74
    }
   ],
   "source": [
    "ser1.quantile([0,0.25,0.5,0.75,0.65,1]) # gives percentile values, not just limited to quantiles and min&max"
   ]
  },
  {
   "cell_type": "code",
   "execution_count": 23,
   "metadata": {},
   "outputs": [
    {
     "output_type": "execute_result",
     "data": {
      "text/plain": [
       "count     15.000000\n",
       "mean      44.400000\n",
       "std       31.497846\n",
       "min        3.000000\n",
       "25%       17.500000\n",
       "50%       46.000000\n",
       "75%       56.500000\n",
       "max      100.000000\n",
       "dtype: float64"
      ]
     },
     "metadata": {},
     "execution_count": 23
    }
   ],
   "source": [
    "ser1.describe()"
   ]
  },
  {
   "cell_type": "code",
   "execution_count": 24,
   "metadata": {},
   "outputs": [],
   "source": [
    "#  pd.to_numeric(ser1)        any data type to numbers\n",
    "#  pd.to_datetime()       suitable characters to date type\n",
    "# --------------------------------------------------------------\n",
    "# dataframe.astype(str)   anything(DF or S or DF.S.....) to string (object type)\n",
    "# dataframe.astype(bool)  anything(DF or S or DF.col...) to bool"
   ]
  },
  {
   "cell_type": "code",
   "execution_count": 25,
   "metadata": {},
   "outputs": [
    {
     "output_type": "execute_result",
     "data": {
      "text/plain": [
       "0     True\n",
       "1     True\n",
       "2     True\n",
       "3     True\n",
       "4     True\n",
       "5     True\n",
       "6     True\n",
       "7     True\n",
       "8     True\n",
       "9     True\n",
       "10    True\n",
       "11    True\n",
       "12    True\n",
       "13    True\n",
       "14    True\n",
       "dtype: bool"
      ]
     },
     "metadata": {},
     "execution_count": 25
    }
   ],
   "source": [
    "ser1.astype(bool)"
   ]
  },
  {
   "cell_type": "code",
   "execution_count": 26,
   "metadata": {},
   "outputs": [
    {
     "output_type": "execute_result",
     "data": {
      "text/plain": [
       "0      12\n",
       "1      34\n",
       "2      56\n",
       "3      32\n",
       "4      12\n",
       "5       3\n",
       "6       4\n",
       "7      57\n",
       "8      54\n",
       "9      46\n",
       "10     56\n",
       "11     78\n",
       "12     99\n",
       "13    100\n",
       "14     23\n",
       "dtype: int64"
      ]
     },
     "metadata": {},
     "execution_count": 26
    }
   ],
   "source": [
    "ser1.astype(int)"
   ]
  },
  {
   "cell_type": "code",
   "execution_count": 27,
   "metadata": {},
   "outputs": [
    {
     "output_type": "execute_result",
     "data": {
      "text/plain": [
       "0      12.0\n",
       "1      34.0\n",
       "2      56.0\n",
       "3      32.0\n",
       "4      12.0\n",
       "5       3.0\n",
       "6       4.0\n",
       "7      57.0\n",
       "8      54.0\n",
       "9      46.0\n",
       "10     56.0\n",
       "11     78.0\n",
       "12     99.0\n",
       "13    100.0\n",
       "14     23.0\n",
       "dtype: float64"
      ]
     },
     "metadata": {},
     "execution_count": 27
    }
   ],
   "source": [
    "ser1.astype(float)"
   ]
  },
  {
   "cell_type": "code",
   "execution_count": 28,
   "metadata": {},
   "outputs": [
    {
     "output_type": "execute_result",
     "data": {
      "text/plain": [
       "0      12\n",
       "1      34\n",
       "2      56\n",
       "3      32\n",
       "4      12\n",
       "5       3\n",
       "6       4\n",
       "7      57\n",
       "8      54\n",
       "9      46\n",
       "10     56\n",
       "11     78\n",
       "12     99\n",
       "13    100\n",
       "14     23\n",
       "dtype: object"
      ]
     },
     "metadata": {},
     "execution_count": 28
    }
   ],
   "source": [
    "ser1.astype(object)"
   ]
  },
  {
   "cell_type": "code",
   "execution_count": 29,
   "metadata": {},
   "outputs": [
    {
     "output_type": "stream",
     "text": [
      "\u001b[0;31mSignature:\u001b[0m\n",
      "\u001b[0mser1\u001b[0m\u001b[0;34m.\u001b[0m\u001b[0mclip\u001b[0m\u001b[0;34m(\u001b[0m\u001b[0;34m\u001b[0m\n",
      "\u001b[0;34m\u001b[0m    \u001b[0mlower\u001b[0m\u001b[0;34m=\u001b[0m\u001b[0;32mNone\u001b[0m\u001b[0;34m,\u001b[0m\u001b[0;34m\u001b[0m\n",
      "\u001b[0;34m\u001b[0m    \u001b[0mupper\u001b[0m\u001b[0;34m=\u001b[0m\u001b[0;32mNone\u001b[0m\u001b[0;34m,\u001b[0m\u001b[0;34m\u001b[0m\n",
      "\u001b[0;34m\u001b[0m    \u001b[0maxis\u001b[0m\u001b[0;34m=\u001b[0m\u001b[0;32mNone\u001b[0m\u001b[0;34m,\u001b[0m\u001b[0;34m\u001b[0m\n",
      "\u001b[0;34m\u001b[0m    \u001b[0minplace\u001b[0m\u001b[0;34m:\u001b[0m \u001b[0;34m'bool_t'\u001b[0m \u001b[0;34m=\u001b[0m \u001b[0;32mFalse\u001b[0m\u001b[0;34m,\u001b[0m\u001b[0;34m\u001b[0m\n",
      "\u001b[0;34m\u001b[0m    \u001b[0;34m*\u001b[0m\u001b[0margs\u001b[0m\u001b[0;34m,\u001b[0m\u001b[0;34m\u001b[0m\n",
      "\u001b[0;34m\u001b[0m    \u001b[0;34m**\u001b[0m\u001b[0mkwargs\u001b[0m\u001b[0;34m,\u001b[0m\u001b[0;34m\u001b[0m\n",
      "\u001b[0;34m\u001b[0m\u001b[0;34m)\u001b[0m \u001b[0;34m->\u001b[0m \u001b[0;34m'FrameOrSeries'\u001b[0m\u001b[0;34m\u001b[0m\u001b[0;34m\u001b[0m\u001b[0m\n",
      "\u001b[0;31mDocstring:\u001b[0m\n",
      "Trim values at input threshold(s).\n",
      "\n",
      "Assigns values outside boundary to boundary values. Thresholds\n",
      "can be singular values or array like, and in the latter case\n",
      "the clipping is performed element-wise in the specified axis.\n",
      "\n",
      "Parameters\n",
      "----------\n",
      "lower : float or array_like, default None\n",
      "    Minimum threshold value. All values below this\n",
      "    threshold will be set to it.\n",
      "upper : float or array_like, default None\n",
      "    Maximum threshold value. All values above this\n",
      "    threshold will be set to it.\n",
      "axis : int or str axis name, optional\n",
      "    Align object with lower and upper along the given axis.\n",
      "inplace : bool, default False\n",
      "    Whether to perform the operation in place on the data.\n",
      "*args, **kwargs\n",
      "    Additional keywords have no effect but might be accepted\n",
      "    for compatibility with numpy.\n",
      "\n",
      "Returns\n",
      "-------\n",
      "Series or DataFrame or None\n",
      "    Same type as calling object with the values outside the\n",
      "    clip boundaries replaced or None if ``inplace=True``.\n",
      "\n",
      "See Also\n",
      "--------\n",
      "Series.clip : Trim values at input threshold in series.\n",
      "DataFrame.clip : Trim values at input threshold in dataframe.\n",
      "numpy.clip : Clip (limit) the values in an array.\n",
      "\n",
      "Examples\n",
      "--------\n",
      ">>> data = {'col_0': [9, -3, 0, -1, 5], 'col_1': [-2, -7, 6, 8, -5]}\n",
      ">>> df = pd.DataFrame(data)\n",
      ">>> df\n",
      "   col_0  col_1\n",
      "0      9     -2\n",
      "1     -3     -7\n",
      "2      0      6\n",
      "3     -1      8\n",
      "4      5     -5\n",
      "\n",
      "Clips per column using lower and upper thresholds:\n",
      "\n",
      ">>> df.clip(-4, 6)\n",
      "   col_0  col_1\n",
      "0      6     -2\n",
      "1     -3     -4\n",
      "2      0      6\n",
      "3     -1      6\n",
      "4      5     -4\n",
      "\n",
      "Clips using specific lower and upper thresholds per column element:\n",
      "\n",
      ">>> t = pd.Series([2, -4, -1, 6, 3])\n",
      ">>> t\n",
      "0    2\n",
      "1   -4\n",
      "2   -1\n",
      "3    6\n",
      "4    3\n",
      "dtype: int64\n",
      "\n",
      ">>> df.clip(t, t + 4, axis=0)\n",
      "   col_0  col_1\n",
      "0      6      2\n",
      "1     -3     -4\n",
      "2      0      3\n",
      "3      6      8\n",
      "4      5      3\n",
      "\u001b[0;31mFile:\u001b[0m      ~/miniconda3/lib/python3.8/site-packages/pandas/core/generic.py\n",
      "\u001b[0;31mType:\u001b[0m      method\n"
     ],
     "name": "stdout"
    }
   ],
   "source": [
    "ser1.clip?"
   ]
  },
  {
   "cell_type": "code",
   "execution_count": 30,
   "metadata": {},
   "outputs": [
    {
     "output_type": "execute_result",
     "data": {
      "text/plain": [
       "0     False\n",
       "1      True\n",
       "2      True\n",
       "3     False\n",
       "4     False\n",
       "5      True\n",
       "6     False\n",
       "7     False\n",
       "8      True\n",
       "9      True\n",
       "10     True\n",
       "dtype: bool"
      ]
     },
     "metadata": {},
     "execution_count": 30
    }
   ],
   "source": [
    "df = pd.Series([4,4,4,6,8,4,10,15,6,15,15])\n",
    "df.duplicated()"
   ]
  },
  {
   "cell_type": "code",
   "execution_count": 31,
   "metadata": {},
   "outputs": [
    {
     "output_type": "stream",
     "name": "stdout",
     "text": [
      "0    12\n1    34\n2    56\ndtype: int64\n12     99\n13    100\n14     23\ndtype: int64\n"
     ]
    }
   ],
   "source": [
    "# 5 rows max by default\n",
    "print(ser1.head(3))\n",
    "print(ser1.tail(3))"
   ]
  },
  {
   "cell_type": "code",
   "execution_count": 32,
   "metadata": {},
   "outputs": [
    {
     "output_type": "stream",
     "name": "stdout",
     "text": [
      "RangeIndex(start=0, stop=15, step=1)\nIndex(['a', 'b', 'c', 'd', 'e', 'f', 'g', 'h', 0, 'j', 23, 2, 'word_idx', 'z',\n       1],\n      dtype='object')\n[0, 1, 2, 3, 4, 5, 6, 7, 8, 9, 10, 11, 12, 13, 14]\n['a', 'b', 'c', 'd', 'e', 'f', 'g', 'h', 0, 'j', 23, 2, 'word_idx', 'z', 1]\n[12, 34, 56, 32, 12, 3, 4, 57, 54, 46, 56, 78, 99, 100, 23]\n"
     ]
    }
   ],
   "source": [
    "print(ser1.index)\n",
    "print(ser3.index)\n",
    "print(ser1.index.tolist())\n",
    "print(ser3.index.tolist())\n",
    "print(ser3.tolist())"
   ]
  },
  {
   "cell_type": "code",
   "execution_count": 33,
   "metadata": {},
   "outputs": [],
   "source": [
    "import os"
   ]
  },
  {
   "cell_type": "code",
   "execution_count": 34,
   "metadata": {},
   "outputs": [
    {
     "output_type": "execute_result",
     "data": {
      "text/plain": [
       "'/home/sharan/projects/al/pds'"
      ]
     },
     "metadata": {},
     "execution_count": 34
    }
   ],
   "source": [
    "os.getcwd()"
   ]
  },
  {
   "cell_type": "code",
   "execution_count": 35,
   "metadata": {},
   "outputs": [],
   "source": [
    "ser3.to_csv(\"ser3.csv\")"
   ]
  },
  {
   "source": [
    "## DataFrames"
   ],
   "cell_type": "markdown",
   "metadata": {}
  },
  {
   "cell_type": "code",
   "execution_count": 36,
   "metadata": {},
   "outputs": [],
   "source": [
    "df = pd.read_csv('./sosurveydataset/survey_results_public.csv')\n",
    "# here we can write second param as <index_col='Respondent'> as it is eligible for being index. \n",
    "# we can also provide normally ext idx as <index=[..,..,..,..,......]>"
   ]
  },
  {
   "cell_type": "code",
   "execution_count": 76,
   "metadata": {},
   "outputs": [],
   "source": [
    "pd.set_option('display.max_columns', 12)\n",
    "pd.set_option('display.max_rows', 10)"
   ]
  },
  {
   "cell_type": "code",
   "execution_count": 77,
   "metadata": {},
   "outputs": [
    {
     "output_type": "execute_result",
     "data": {
      "text/plain": [
       "       Respondent                                         MainBranch Hobbyist  \\\n",
       "0             1.0                     I am a developer by profession      Yes   \n",
       "1             2.0                     I am a developer by profession       No   \n",
       "2             3.0                        I code primarily as a hobby      Yes   \n",
       "3             4.0                     I am a developer by profession      Yes   \n",
       "4             5.0  I used to be a developer by profession, but no...      Yes   \n",
       "...           ...                                                ...      ...   \n",
       "64456     64858.0                                                NaN      Yes   \n",
       "64457     64867.0                                                NaN      Yes   \n",
       "64458     64898.0                                                NaN      Yes   \n",
       "64459     64925.0                                                NaN      Yes   \n",
       "64460     65112.0                                                NaN      Yes   \n",
       "\n",
       "        Age Age1stCode CompFreq  ...       WebframeDesireNextYear  \\\n",
       "0       NaN         13  Monthly  ...                 ASP.NET Core   \n",
       "1       NaN         19      NaN  ...                          NaN   \n",
       "2       NaN         15      NaN  ...                          NaN   \n",
       "3      25.0         18      NaN  ...                          NaN   \n",
       "4      31.0         16      NaN  ...         Django;Ruby on Rails   \n",
       "...     ...        ...      ...  ...                          ...   \n",
       "64456   NaN         16      NaN  ...                          NaN   \n",
       "64457   NaN        NaN      NaN  ...                          NaN   \n",
       "64458   NaN        NaN      NaN  ...                          NaN   \n",
       "64459   NaN        NaN      NaN  ...  Angular;Angular.js;React.js   \n",
       "64460   NaN        NaN      NaN  ...          ASP.NET Core;jQuery   \n",
       "\n",
       "                           WebframeWorkedWith  \\\n",
       "0                        ASP.NET;ASP.NET Core   \n",
       "1                                         NaN   \n",
       "2                                         NaN   \n",
       "3                                         NaN   \n",
       "4                               Ruby on Rails   \n",
       "...                                       ...   \n",
       "64456                                     NaN   \n",
       "64457                                     NaN   \n",
       "64458                                     NaN   \n",
       "64459                                     NaN   \n",
       "64460  Angular;Angular.js;ASP.NET Core;jQuery   \n",
       "\n",
       "                                  WelcomeChange WorkWeekHrs YearsCode  \\\n",
       "0       Just as welcome now as I felt last year        50.0        36   \n",
       "1      Somewhat more welcome now than last year         NaN         7   \n",
       "2      Somewhat more welcome now than last year         NaN         4   \n",
       "3      Somewhat less welcome now than last year        40.0         7   \n",
       "4       Just as welcome now as I felt last year         NaN        15   \n",
       "...                                         ...         ...       ...   \n",
       "64456                                       NaN         NaN        10   \n",
       "64457                                       NaN         NaN       NaN   \n",
       "64458                                       NaN         NaN       NaN   \n",
       "64459                                       NaN         NaN       NaN   \n",
       "64460                                       NaN         NaN       NaN   \n",
       "\n",
       "           YearsCodePro  \n",
       "0                    27  \n",
       "1                     4  \n",
       "2                   NaN  \n",
       "3                     4  \n",
       "4                     8  \n",
       "...                 ...  \n",
       "64456  Less than 1 year  \n",
       "64457               NaN  \n",
       "64458               NaN  \n",
       "64459               NaN  \n",
       "64460               NaN  \n",
       "\n",
       "[64461 rows x 61 columns]"
      ],
      "text/html": "<div>\n<style scoped>\n    .dataframe tbody tr th:only-of-type {\n        vertical-align: middle;\n    }\n\n    .dataframe tbody tr th {\n        vertical-align: top;\n    }\n\n    .dataframe thead th {\n        text-align: right;\n    }\n</style>\n<table border=\"1\" class=\"dataframe\">\n  <thead>\n    <tr style=\"text-align: right;\">\n      <th></th>\n      <th>Respondent</th>\n      <th>MainBranch</th>\n      <th>Hobbyist</th>\n      <th>Age</th>\n      <th>Age1stCode</th>\n      <th>CompFreq</th>\n      <th>...</th>\n      <th>WebframeDesireNextYear</th>\n      <th>WebframeWorkedWith</th>\n      <th>WelcomeChange</th>\n      <th>WorkWeekHrs</th>\n      <th>YearsCode</th>\n      <th>YearsCodePro</th>\n    </tr>\n  </thead>\n  <tbody>\n    <tr>\n      <th>0</th>\n      <td>1.0</td>\n      <td>I am a developer by profession</td>\n      <td>Yes</td>\n      <td>NaN</td>\n      <td>13</td>\n      <td>Monthly</td>\n      <td>...</td>\n      <td>ASP.NET Core</td>\n      <td>ASP.NET;ASP.NET Core</td>\n      <td>Just as welcome now as I felt last year</td>\n      <td>50.0</td>\n      <td>36</td>\n      <td>27</td>\n    </tr>\n    <tr>\n      <th>1</th>\n      <td>2.0</td>\n      <td>I am a developer by profession</td>\n      <td>No</td>\n      <td>NaN</td>\n      <td>19</td>\n      <td>NaN</td>\n      <td>...</td>\n      <td>NaN</td>\n      <td>NaN</td>\n      <td>Somewhat more welcome now than last year</td>\n      <td>NaN</td>\n      <td>7</td>\n      <td>4</td>\n    </tr>\n    <tr>\n      <th>2</th>\n      <td>3.0</td>\n      <td>I code primarily as a hobby</td>\n      <td>Yes</td>\n      <td>NaN</td>\n      <td>15</td>\n      <td>NaN</td>\n      <td>...</td>\n      <td>NaN</td>\n      <td>NaN</td>\n      <td>Somewhat more welcome now than last year</td>\n      <td>NaN</td>\n      <td>4</td>\n      <td>NaN</td>\n    </tr>\n    <tr>\n      <th>3</th>\n      <td>4.0</td>\n      <td>I am a developer by profession</td>\n      <td>Yes</td>\n      <td>25.0</td>\n      <td>18</td>\n      <td>NaN</td>\n      <td>...</td>\n      <td>NaN</td>\n      <td>NaN</td>\n      <td>Somewhat less welcome now than last year</td>\n      <td>40.0</td>\n      <td>7</td>\n      <td>4</td>\n    </tr>\n    <tr>\n      <th>4</th>\n      <td>5.0</td>\n      <td>I used to be a developer by profession, but no...</td>\n      <td>Yes</td>\n      <td>31.0</td>\n      <td>16</td>\n      <td>NaN</td>\n      <td>...</td>\n      <td>Django;Ruby on Rails</td>\n      <td>Ruby on Rails</td>\n      <td>Just as welcome now as I felt last year</td>\n      <td>NaN</td>\n      <td>15</td>\n      <td>8</td>\n    </tr>\n    <tr>\n      <th>...</th>\n      <td>...</td>\n      <td>...</td>\n      <td>...</td>\n      <td>...</td>\n      <td>...</td>\n      <td>...</td>\n      <td>...</td>\n      <td>...</td>\n      <td>...</td>\n      <td>...</td>\n      <td>...</td>\n      <td>...</td>\n      <td>...</td>\n    </tr>\n    <tr>\n      <th>64456</th>\n      <td>64858.0</td>\n      <td>NaN</td>\n      <td>Yes</td>\n      <td>NaN</td>\n      <td>16</td>\n      <td>NaN</td>\n      <td>...</td>\n      <td>NaN</td>\n      <td>NaN</td>\n      <td>NaN</td>\n      <td>NaN</td>\n      <td>10</td>\n      <td>Less than 1 year</td>\n    </tr>\n    <tr>\n      <th>64457</th>\n      <td>64867.0</td>\n      <td>NaN</td>\n      <td>Yes</td>\n      <td>NaN</td>\n      <td>NaN</td>\n      <td>NaN</td>\n      <td>...</td>\n      <td>NaN</td>\n      <td>NaN</td>\n      <td>NaN</td>\n      <td>NaN</td>\n      <td>NaN</td>\n      <td>NaN</td>\n    </tr>\n    <tr>\n      <th>64458</th>\n      <td>64898.0</td>\n      <td>NaN</td>\n      <td>Yes</td>\n      <td>NaN</td>\n      <td>NaN</td>\n      <td>NaN</td>\n      <td>...</td>\n      <td>NaN</td>\n      <td>NaN</td>\n      <td>NaN</td>\n      <td>NaN</td>\n      <td>NaN</td>\n      <td>NaN</td>\n    </tr>\n    <tr>\n      <th>64459</th>\n      <td>64925.0</td>\n      <td>NaN</td>\n      <td>Yes</td>\n      <td>NaN</td>\n      <td>NaN</td>\n      <td>NaN</td>\n      <td>...</td>\n      <td>Angular;Angular.js;React.js</td>\n      <td>NaN</td>\n      <td>NaN</td>\n      <td>NaN</td>\n      <td>NaN</td>\n      <td>NaN</td>\n    </tr>\n    <tr>\n      <th>64460</th>\n      <td>65112.0</td>\n      <td>NaN</td>\n      <td>Yes</td>\n      <td>NaN</td>\n      <td>NaN</td>\n      <td>NaN</td>\n      <td>...</td>\n      <td>ASP.NET Core;jQuery</td>\n      <td>Angular;Angular.js;ASP.NET Core;jQuery</td>\n      <td>NaN</td>\n      <td>NaN</td>\n      <td>NaN</td>\n      <td>NaN</td>\n    </tr>\n  </tbody>\n</table>\n<p>64461 rows × 61 columns</p>\n</div>"
     },
     "metadata": {},
     "execution_count": 77
    }
   ],
   "source": [
    "df"
   ]
  },
  {
   "cell_type": "code",
   "execution_count": 39,
   "metadata": {},
   "outputs": [
    {
     "output_type": "stream",
     "name": "stdout",
     "text": [
      "<class 'pandas.core.frame.DataFrame'>\nRangeIndex: 64461 entries, 0 to 64460\nData columns (total 61 columns):\n #   Column                        Non-Null Count  Dtype  \n---  ------                        --------------  -----  \n 0   Respondent                    64461 non-null  int64  \n 1   MainBranch                    64162 non-null  object \n 2   Hobbyist                      64416 non-null  object \n 3   Age                           45446 non-null  float64\n 4   Age1stCode                    57900 non-null  object \n 5   CompFreq                      40069 non-null  object \n 6   CompTotal                     34826 non-null  float64\n 7   ConvertedComp                 34756 non-null  float64\n 8   Country                       64072 non-null  object \n 9   CurrencyDesc                  45472 non-null  object \n 10  CurrencySymbol                45472 non-null  object \n 11  DatabaseDesireNextYear        44070 non-null  object \n 12  DatabaseWorkedWith            49537 non-null  object \n 13  DevType                       49370 non-null  object \n 14  EdLevel                       57431 non-null  object \n 15  Employment                    63854 non-null  object \n 16  Ethnicity                     45948 non-null  object \n 17  Gender                        50557 non-null  object \n 18  JobFactors                    49349 non-null  object \n 19  JobSat                        45194 non-null  object \n 20  JobSeek                       51727 non-null  object \n 21  LanguageDesireNextYear        54113 non-null  object \n 22  LanguageWorkedWith            57378 non-null  object \n 23  MiscTechDesireNextYear        42379 non-null  object \n 24  MiscTechWorkedWith            40314 non-null  object \n 25  NEWCollabToolsDesireNextYear  47287 non-null  object \n 26  NEWCollabToolsWorkedWith      52883 non-null  object \n 27  NEWDevOps                     42686 non-null  object \n 28  NEWDevOpsImpt                 41732 non-null  object \n 29  NEWEdImpt                     48465 non-null  object \n 30  NEWJobHunt                    42286 non-null  object \n 31  NEWJobHuntResearch            41022 non-null  object \n 32  NEWLearn                      56156 non-null  object \n 33  NEWOffTopic                   50804 non-null  object \n 34  NEWOnboardGood                42623 non-null  object \n 35  NEWOtherComms                 57205 non-null  object \n 36  NEWOvertime                   43231 non-null  object \n 37  NEWPurchaseResearch           37321 non-null  object \n 38  NEWPurpleLink                 54803 non-null  object \n 39  NEWSOSites                    58275 non-null  object \n 40  NEWStuck                      54983 non-null  object \n 41  OpSys                         56228 non-null  object \n 42  OrgSize                       44334 non-null  object \n 43  PlatformDesireNextYear        50605 non-null  object \n 44  PlatformWorkedWith            53843 non-null  object \n 45  PurchaseWhat                  39364 non-null  object \n 46  Sexuality                     43992 non-null  object \n 47  SOAccount                     56805 non-null  object \n 48  SOComm                        56476 non-null  object \n 49  SOPartFreq                    46792 non-null  object \n 50  SOVisitFreq                   56970 non-null  object \n 51  SurveyEase                    51802 non-null  object \n 52  SurveyLength                  51701 non-null  object \n 53  Trans                         49345 non-null  object \n 54  UndergradMajor                50995 non-null  object \n 55  WebframeDesireNextYear        40024 non-null  object \n 56  WebframeWorkedWith            42279 non-null  object \n 57  WelcomeChange                 52683 non-null  object \n 58  WorkWeekHrs                   41151 non-null  float64\n 59  YearsCode                     57684 non-null  object \n 60  YearsCodePro                  46349 non-null  object \ndtypes: float64(4), int64(1), object(56)\nmemory usage: 30.0+ MB\n"
     ]
    }
   ],
   "source": [
    "df.info()\n",
    "# 1. Row - 32 entries with 0 - 31 and Data columns (total 15 columns)\n",
    "# 2. All columns - followed by it's data types\n",
    "        # object - strings\n",
    "        # number of non missing values in that column\n",
    "# 3. Freq table of the data types"
   ]
  },
  {
   "cell_type": "code",
   "execution_count": 40,
   "metadata": {},
   "outputs": [
    {
     "output_type": "execute_result",
     "data": {
      "text/plain": [
       "['Respondent',\n",
       " 'MainBranch',\n",
       " 'Hobbyist',\n",
       " 'Age',\n",
       " 'Age1stCode',\n",
       " 'CompFreq',\n",
       " 'CompTotal',\n",
       " 'ConvertedComp',\n",
       " 'Country',\n",
       " 'CurrencyDesc',\n",
       " 'CurrencySymbol',\n",
       " 'DatabaseDesireNextYear',\n",
       " 'DatabaseWorkedWith',\n",
       " 'DevType',\n",
       " 'EdLevel',\n",
       " 'Employment',\n",
       " 'Ethnicity',\n",
       " 'Gender',\n",
       " 'JobFactors',\n",
       " 'JobSat',\n",
       " 'JobSeek',\n",
       " 'LanguageDesireNextYear',\n",
       " 'LanguageWorkedWith',\n",
       " 'MiscTechDesireNextYear',\n",
       " 'MiscTechWorkedWith',\n",
       " 'NEWCollabToolsDesireNextYear',\n",
       " 'NEWCollabToolsWorkedWith',\n",
       " 'NEWDevOps',\n",
       " 'NEWDevOpsImpt',\n",
       " 'NEWEdImpt',\n",
       " 'NEWJobHunt',\n",
       " 'NEWJobHuntResearch',\n",
       " 'NEWLearn',\n",
       " 'NEWOffTopic',\n",
       " 'NEWOnboardGood',\n",
       " 'NEWOtherComms',\n",
       " 'NEWOvertime',\n",
       " 'NEWPurchaseResearch',\n",
       " 'NEWPurpleLink',\n",
       " 'NEWSOSites',\n",
       " 'NEWStuck',\n",
       " 'OpSys',\n",
       " 'OrgSize',\n",
       " 'PlatformDesireNextYear',\n",
       " 'PlatformWorkedWith',\n",
       " 'PurchaseWhat',\n",
       " 'Sexuality',\n",
       " 'SOAccount',\n",
       " 'SOComm',\n",
       " 'SOPartFreq',\n",
       " 'SOVisitFreq',\n",
       " 'SurveyEase',\n",
       " 'SurveyLength',\n",
       " 'Trans',\n",
       " 'UndergradMajor',\n",
       " 'WebframeDesireNextYear',\n",
       " 'WebframeWorkedWith',\n",
       " 'WelcomeChange',\n",
       " 'WorkWeekHrs',\n",
       " 'YearsCode',\n",
       " 'YearsCodePro']"
      ]
     },
     "metadata": {},
     "execution_count": 40
    }
   ],
   "source": [
    "df.columns.tolist() # there is nothing like df.rows method"
   ]
  },
  {
   "cell_type": "code",
   "execution_count": 41,
   "metadata": {},
   "outputs": [
    {
     "output_type": "execute_result",
     "data": {
      "text/plain": [
       "         Respondent           Age      CompTotal  ConvertedComp   WorkWeekHrs\n",
       "count  64461.000000  45446.000000   3.482600e+04   3.475600e+04  41151.000000\n",
       "mean   32554.079738     30.834111  3.190464e+242   1.037561e+05     40.782174\n",
       "std    18967.442360      9.585392            inf   2.268853e+05     17.816383\n",
       "min        1.000000      1.000000   0.000000e+00   0.000000e+00      1.000000\n",
       "25%    16116.000000     24.000000   2.000000e+04   2.464800e+04     40.000000\n",
       "50%    32231.000000     29.000000   6.300000e+04   5.404900e+04     40.000000\n",
       "75%    49142.000000     35.000000   1.250000e+05   9.500000e+04     44.000000\n",
       "max    65639.000000    279.000000  1.111111e+247   2.000000e+06    475.000000"
      ],
      "text/html": "<div>\n<style scoped>\n    .dataframe tbody tr th:only-of-type {\n        vertical-align: middle;\n    }\n\n    .dataframe tbody tr th {\n        vertical-align: top;\n    }\n\n    .dataframe thead th {\n        text-align: right;\n    }\n</style>\n<table border=\"1\" class=\"dataframe\">\n  <thead>\n    <tr style=\"text-align: right;\">\n      <th></th>\n      <th>Respondent</th>\n      <th>Age</th>\n      <th>CompTotal</th>\n      <th>ConvertedComp</th>\n      <th>WorkWeekHrs</th>\n    </tr>\n  </thead>\n  <tbody>\n    <tr>\n      <th>count</th>\n      <td>64461.000000</td>\n      <td>45446.000000</td>\n      <td>3.482600e+04</td>\n      <td>3.475600e+04</td>\n      <td>41151.000000</td>\n    </tr>\n    <tr>\n      <th>mean</th>\n      <td>32554.079738</td>\n      <td>30.834111</td>\n      <td>3.190464e+242</td>\n      <td>1.037561e+05</td>\n      <td>40.782174</td>\n    </tr>\n    <tr>\n      <th>std</th>\n      <td>18967.442360</td>\n      <td>9.585392</td>\n      <td>inf</td>\n      <td>2.268853e+05</td>\n      <td>17.816383</td>\n    </tr>\n    <tr>\n      <th>min</th>\n      <td>1.000000</td>\n      <td>1.000000</td>\n      <td>0.000000e+00</td>\n      <td>0.000000e+00</td>\n      <td>1.000000</td>\n    </tr>\n    <tr>\n      <th>25%</th>\n      <td>16116.000000</td>\n      <td>24.000000</td>\n      <td>2.000000e+04</td>\n      <td>2.464800e+04</td>\n      <td>40.000000</td>\n    </tr>\n    <tr>\n      <th>50%</th>\n      <td>32231.000000</td>\n      <td>29.000000</td>\n      <td>6.300000e+04</td>\n      <td>5.404900e+04</td>\n      <td>40.000000</td>\n    </tr>\n    <tr>\n      <th>75%</th>\n      <td>49142.000000</td>\n      <td>35.000000</td>\n      <td>1.250000e+05</td>\n      <td>9.500000e+04</td>\n      <td>44.000000</td>\n    </tr>\n    <tr>\n      <th>max</th>\n      <td>65639.000000</td>\n      <td>279.000000</td>\n      <td>1.111111e+247</td>\n      <td>2.000000e+06</td>\n      <td>475.000000</td>\n    </tr>\n  </tbody>\n</table>\n</div>"
     },
     "metadata": {},
     "execution_count": 41
    }
   ],
   "source": [
    "df.describe()   # cols only with numerical values will be taken into cinsideration. Rows with NaN will be excluded."
   ]
  },
  {
   "source": [
    "# for dataframes when used with loc or iloc, rows and cols both are required inside []\n",
    "# For using loc and iloc, it's nesessary to pass both column and row\n",
    "# [r,c] -> left of comma - row indexes/conditions and right is for column names\n",
    "\n",
    "df.loc[0:15,['Respondent', 'Age', 'CompTotal']] # except idx, everything is compulsory"
   ],
   "cell_type": "code",
   "metadata": {},
   "execution_count": 42,
   "outputs": [
    {
     "output_type": "execute_result",
     "data": {
      "text/plain": [
       "    Respondent   Age  CompTotal\n",
       "0            1   NaN        NaN\n",
       "1            2   NaN        NaN\n",
       "2            3   NaN        NaN\n",
       "3            4  25.0        NaN\n",
       "4            5  31.0        NaN\n",
       "..         ...   ...        ...\n",
       "11          12  49.0     1100.0\n",
       "12          13  53.0     3000.0\n",
       "13          14  27.0    66000.0\n",
       "14          15   NaN        NaN\n",
       "15          16  45.0     7000.0\n",
       "\n",
       "[16 rows x 3 columns]"
      ],
      "text/html": "<div>\n<style scoped>\n    .dataframe tbody tr th:only-of-type {\n        vertical-align: middle;\n    }\n\n    .dataframe tbody tr th {\n        vertical-align: top;\n    }\n\n    .dataframe thead th {\n        text-align: right;\n    }\n</style>\n<table border=\"1\" class=\"dataframe\">\n  <thead>\n    <tr style=\"text-align: right;\">\n      <th></th>\n      <th>Respondent</th>\n      <th>Age</th>\n      <th>CompTotal</th>\n    </tr>\n  </thead>\n  <tbody>\n    <tr>\n      <th>0</th>\n      <td>1</td>\n      <td>NaN</td>\n      <td>NaN</td>\n    </tr>\n    <tr>\n      <th>1</th>\n      <td>2</td>\n      <td>NaN</td>\n      <td>NaN</td>\n    </tr>\n    <tr>\n      <th>2</th>\n      <td>3</td>\n      <td>NaN</td>\n      <td>NaN</td>\n    </tr>\n    <tr>\n      <th>3</th>\n      <td>4</td>\n      <td>25.0</td>\n      <td>NaN</td>\n    </tr>\n    <tr>\n      <th>4</th>\n      <td>5</td>\n      <td>31.0</td>\n      <td>NaN</td>\n    </tr>\n    <tr>\n      <th>...</th>\n      <td>...</td>\n      <td>...</td>\n      <td>...</td>\n    </tr>\n    <tr>\n      <th>11</th>\n      <td>12</td>\n      <td>49.0</td>\n      <td>1100.0</td>\n    </tr>\n    <tr>\n      <th>12</th>\n      <td>13</td>\n      <td>53.0</td>\n      <td>3000.0</td>\n    </tr>\n    <tr>\n      <th>13</th>\n      <td>14</td>\n      <td>27.0</td>\n      <td>66000.0</td>\n    </tr>\n    <tr>\n      <th>14</th>\n      <td>15</td>\n      <td>NaN</td>\n      <td>NaN</td>\n    </tr>\n    <tr>\n      <th>15</th>\n      <td>16</td>\n      <td>45.0</td>\n      <td>7000.0</td>\n    </tr>\n  </tbody>\n</table>\n<p>16 rows × 3 columns</p>\n</div>"
     },
     "metadata": {},
     "execution_count": 42
    }
   ]
  },
  {
   "cell_type": "code",
   "execution_count": 43,
   "metadata": {},
   "outputs": [
    {
     "output_type": "stream",
     "name": "stdout",
     "text": [
      "0         36\n1          7\n2          4\n3          7\n4         15\n        ... \n64456     10\n64457    NaN\n64458    NaN\n64459    NaN\n64460    NaN\nName: YearsCode, Length: 64461, dtype: object\n0         36\n1          7\n2          4\n3          7\n4         15\n        ... \n64456     10\n64457    NaN\n64458    NaN\n64459    NaN\n64460    NaN\nName: YearsCode, Length: 64461, dtype: object\n       Respondent   Age  CompTotal\n0               1   NaN        NaN\n1               2   NaN        NaN\n2               3   NaN        NaN\n3               4  25.0        NaN\n4               5  31.0        NaN\n...           ...   ...        ...\n64456       64858   NaN        NaN\n64457       64867   NaN        NaN\n64458       64898   NaN        NaN\n64459       64925   NaN        NaN\n64460       65112   NaN        NaN\n\n[64461 rows x 3 columns]\n"
     ]
    }
   ],
   "source": [
    "# Try to extract columns\n",
    "\n",
    "# 1. Use of the . operator\n",
    "print(df.YearsCode)\n",
    "print(df['YearsCode'])  # prefer [] over . because if col named count, it will overridden by the method count\n",
    "print(df[['Respondent', 'Age', 'CompTotal']])"
   ]
  },
  {
   "cell_type": "code",
   "execution_count": 44,
   "metadata": {},
   "outputs": [],
   "source": [
    "#  pd.to_numeric(ser1)        any data type to numbers\n",
    "#  pd.to_datetime()       suitable characters to date type\n",
    "# --------------------------------------------------------------\n",
    "# dataframe.astype(str)   anything to string (object type)\n",
    "# dataframe.astype(bool)  anything to bool"
   ]
  },
  {
   "cell_type": "code",
   "execution_count": 45,
   "metadata": {},
   "outputs": [],
   "source": [
    "df['Age'] = pd.to_numeric(df.Age)"
   ]
  },
  {
   "cell_type": "code",
   "execution_count": 46,
   "metadata": {},
   "outputs": [],
   "source": [
    "df['CompTotal'] = df.CompTotal.astype(bool)"
   ]
  },
  {
   "cell_type": "code",
   "execution_count": 47,
   "metadata": {},
   "outputs": [
    {
     "output_type": "execute_result",
     "data": {
      "text/plain": [
       "0        True\n",
       "1        True\n",
       "2        True\n",
       "3        True\n",
       "4        True\n",
       "         ... \n",
       "64456    True\n",
       "64457    True\n",
       "64458    True\n",
       "64459    True\n",
       "64460    True\n",
       "Name: CompTotal, Length: 64461, dtype: bool"
      ]
     },
     "metadata": {},
     "execution_count": 47
    }
   ],
   "source": [
    "df.CompTotal"
   ]
  },
  {
   "cell_type": "code",
   "execution_count": 48,
   "metadata": {},
   "outputs": [],
   "source": [
    "df.Respondent = df['Respondent'].astype(float)"
   ]
  },
  {
   "cell_type": "code",
   "execution_count": 49,
   "metadata": {},
   "outputs": [
    {
     "output_type": "stream",
     "name": "stdout",
     "text": [
      "<class 'pandas.core.frame.DataFrame'>\nRangeIndex: 64461 entries, 0 to 64460\nData columns (total 61 columns):\n #   Column                        Non-Null Count  Dtype  \n---  ------                        --------------  -----  \n 0   Respondent                    64461 non-null  float64\n 1   MainBranch                    64162 non-null  object \n 2   Hobbyist                      64416 non-null  object \n 3   Age                           45446 non-null  float64\n 4   Age1stCode                    57900 non-null  object \n 5   CompFreq                      40069 non-null  object \n 6   CompTotal                     64461 non-null  bool   \n 7   ConvertedComp                 34756 non-null  float64\n 8   Country                       64072 non-null  object \n 9   CurrencyDesc                  45472 non-null  object \n 10  CurrencySymbol                45472 non-null  object \n 11  DatabaseDesireNextYear        44070 non-null  object \n 12  DatabaseWorkedWith            49537 non-null  object \n 13  DevType                       49370 non-null  object \n 14  EdLevel                       57431 non-null  object \n 15  Employment                    63854 non-null  object \n 16  Ethnicity                     45948 non-null  object \n 17  Gender                        50557 non-null  object \n 18  JobFactors                    49349 non-null  object \n 19  JobSat                        45194 non-null  object \n 20  JobSeek                       51727 non-null  object \n 21  LanguageDesireNextYear        54113 non-null  object \n 22  LanguageWorkedWith            57378 non-null  object \n 23  MiscTechDesireNextYear        42379 non-null  object \n 24  MiscTechWorkedWith            40314 non-null  object \n 25  NEWCollabToolsDesireNextYear  47287 non-null  object \n 26  NEWCollabToolsWorkedWith      52883 non-null  object \n 27  NEWDevOps                     42686 non-null  object \n 28  NEWDevOpsImpt                 41732 non-null  object \n 29  NEWEdImpt                     48465 non-null  object \n 30  NEWJobHunt                    42286 non-null  object \n 31  NEWJobHuntResearch            41022 non-null  object \n 32  NEWLearn                      56156 non-null  object \n 33  NEWOffTopic                   50804 non-null  object \n 34  NEWOnboardGood                42623 non-null  object \n 35  NEWOtherComms                 57205 non-null  object \n 36  NEWOvertime                   43231 non-null  object \n 37  NEWPurchaseResearch           37321 non-null  object \n 38  NEWPurpleLink                 54803 non-null  object \n 39  NEWSOSites                    58275 non-null  object \n 40  NEWStuck                      54983 non-null  object \n 41  OpSys                         56228 non-null  object \n 42  OrgSize                       44334 non-null  object \n 43  PlatformDesireNextYear        50605 non-null  object \n 44  PlatformWorkedWith            53843 non-null  object \n 45  PurchaseWhat                  39364 non-null  object \n 46  Sexuality                     43992 non-null  object \n 47  SOAccount                     56805 non-null  object \n 48  SOComm                        56476 non-null  object \n 49  SOPartFreq                    46792 non-null  object \n 50  SOVisitFreq                   56970 non-null  object \n 51  SurveyEase                    51802 non-null  object \n 52  SurveyLength                  51701 non-null  object \n 53  Trans                         49345 non-null  object \n 54  UndergradMajor                50995 non-null  object \n 55  WebframeDesireNextYear        40024 non-null  object \n 56  WebframeWorkedWith            42279 non-null  object \n 57  WelcomeChange                 52683 non-null  object \n 58  WorkWeekHrs                   41151 non-null  float64\n 59  YearsCode                     57684 non-null  object \n 60  YearsCodePro                  46349 non-null  object \ndtypes: bool(1), float64(4), object(56)\nmemory usage: 29.6+ MB\n"
     ]
    }
   ],
   "source": [
    "df.info()"
   ]
  },
  {
   "cell_type": "code",
   "execution_count": 50,
   "metadata": {},
   "outputs": [],
   "source": [
    "# date\n",
    "# day:          %d\n",
    "# dayofweek:    %w\n",
    "# weekdayabbr:  %a\n",
    "# weekdayfulln  %A\n",
    "# monthnum      %m\n",
    "# monthnameabbr %b\n",
    "# monthnamefull %B\n",
    "# yearwocent    %y\n",
    "# yearwcent     %Y"
   ]
  },
  {
   "cell_type": "code",
   "execution_count": 51,
   "metadata": {},
   "outputs": [],
   "source": [
    "date1 = \"25Feb2018\"\n",
    "date2 = \"1/1/18\"\n",
    "date3 = \"01/23/1986\"\n",
    "date4 = \"Sunday 25 Feb 2018\""
   ]
  },
  {
   "cell_type": "code",
   "execution_count": 52,
   "metadata": {},
   "outputs": [
    {
     "output_type": "execute_result",
     "data": {
      "text/plain": [
       "Timestamp('2018-02-25 00:00:00')"
      ]
     },
     "metadata": {},
     "execution_count": 52
    }
   ],
   "source": [
    "pd.to_datetime(date1,format=\"%d%b%Y\")"
   ]
  },
  {
   "cell_type": "code",
   "execution_count": 53,
   "metadata": {},
   "outputs": [
    {
     "output_type": "stream",
     "name": "stdout",
     "text": [
      "1986-01-23 00:00:00\n"
     ]
    }
   ],
   "source": [
    "d = pd.to_datetime(date3,format=\"%m/%d/%Y\")\n",
    "print(d)"
   ]
  },
  {
   "cell_type": "code",
   "execution_count": 54,
   "metadata": {},
   "outputs": [
    {
     "output_type": "execute_result",
     "data": {
      "text/plain": [
       "pandas._libs.tslibs.timestamps.Timestamp"
      ]
     },
     "metadata": {},
     "execution_count": 54
    }
   ],
   "source": [
    "type(d)"
   ]
  },
  {
   "source": [
    "##  Corey's"
   ],
   "cell_type": "markdown",
   "metadata": {}
  },
  {
   "cell_type": "code",
   "execution_count": 119,
   "metadata": {},
   "outputs": [],
   "source": [
    "people = {\n",
    "    'first' : ['Corey', 'Jane', 'John'],\n",
    "    'Last' : ['Schafer', 'Doe', 'Doe'],\n",
    "    'email' : ['CoreySchafer@gmail.com', 'JaneDoe@gmail.com', 'JohnDoe@gmail.com']\n",
    "}"
   ]
  },
  {
   "cell_type": "code",
   "execution_count": 120,
   "metadata": {},
   "outputs": [],
   "source": [
    "df1 = pd.DataFrame(people)"
   ]
  },
  {
   "cell_type": "code",
   "execution_count": 121,
   "metadata": {},
   "outputs": [
    {
     "output_type": "execute_result",
     "data": {
      "text/plain": [
       "(3, 3)"
      ]
     },
     "metadata": {},
     "execution_count": 121
    }
   ],
   "source": [
    "df1.shape    # gives dimension. NOTE, its w/o brackets"
   ]
  },
  {
   "cell_type": "code",
   "execution_count": 122,
   "metadata": {},
   "outputs": [
    {
     "output_type": "execute_result",
     "data": {
      "text/plain": [
       "   first     Last                   email\n",
       "0  Corey  Schafer  CoreySchafer@gmail.com\n",
       "1   Jane      Doe       JaneDoe@gmail.com\n",
       "2   John      Doe       JohnDoe@gmail.com"
      ],
      "text/html": "<div>\n<style scoped>\n    .dataframe tbody tr th:only-of-type {\n        vertical-align: middle;\n    }\n\n    .dataframe tbody tr th {\n        vertical-align: top;\n    }\n\n    .dataframe thead th {\n        text-align: right;\n    }\n</style>\n<table border=\"1\" class=\"dataframe\">\n  <thead>\n    <tr style=\"text-align: right;\">\n      <th></th>\n      <th>first</th>\n      <th>Last</th>\n      <th>email</th>\n    </tr>\n  </thead>\n  <tbody>\n    <tr>\n      <th>0</th>\n      <td>Corey</td>\n      <td>Schafer</td>\n      <td>CoreySchafer@gmail.com</td>\n    </tr>\n    <tr>\n      <th>1</th>\n      <td>Jane</td>\n      <td>Doe</td>\n      <td>JaneDoe@gmail.com</td>\n    </tr>\n    <tr>\n      <th>2</th>\n      <td>John</td>\n      <td>Doe</td>\n      <td>JohnDoe@gmail.com</td>\n    </tr>\n  </tbody>\n</table>\n</div>"
     },
     "metadata": {},
     "execution_count": 122
    }
   ],
   "source": [
    "df1"
   ]
  },
  {
   "cell_type": "code",
   "execution_count": 123,
   "metadata": {},
   "outputs": [
    {
     "output_type": "execute_result",
     "data": {
      "text/plain": [
       "first                     Corey\n",
       "Last                    Schafer\n",
       "email    CoreySchafer@gmail.com\n",
       "Name: 0, dtype: object"
      ]
     },
     "metadata": {},
     "execution_count": 123
    }
   ],
   "source": [
    "# index to dataframe\n",
    "\n",
    "df1.loc[0] # or df.iloc[0], both will give same output. Here, for single row, column idx is idx of the output"
   ]
  },
  {
   "cell_type": "code",
   "execution_count": 124,
   "metadata": {},
   "outputs": [
    {
     "output_type": "execute_result",
     "data": {
      "text/plain": [
       "1    Jane\n",
       "2    John\n",
       "Name: first, dtype: object"
      ]
     },
     "metadata": {},
     "execution_count": 124
    }
   ],
   "source": [
    "# for multiple rows if to be fetched, then normal output is observed\n",
    "\n",
    "df1.iloc[[1,2], 0]   # from \" , 0\" is optional. For multiple rows/cols [] is required, but for single row/col only that row's/col's idx is required...  Works both for iloc and loc, but remember that loc wont take int idx if ext idx is defined. Here col headers are ext idx which are implicitly defined.\n",
    "# Syntax:       .[i]loc[[row[,row,row,...]][,[col[,col,col,...]] ]"
   ]
  },
  {
   "cell_type": "code",
   "execution_count": 125,
   "metadata": {},
   "outputs": [
    {
     "output_type": "execute_result",
     "data": {
      "text/plain": [
       "Index(['first', 'Last', 'email'], dtype='object')"
      ]
     },
     "metadata": {},
     "execution_count": 125
    }
   ],
   "source": [
    "df1.columns"
   ]
  },
  {
   "cell_type": "code",
   "execution_count": 126,
   "metadata": {},
   "outputs": [
    {
     "output_type": "execute_result",
     "data": {
      "text/plain": [
       "Yes    50388\n",
       "No     14028\n",
       "Name: Hobbyist, dtype: int64"
      ]
     },
     "metadata": {},
     "execution_count": 126
    }
   ],
   "source": [
    "df['Hobbyist'].value_counts()   # gives the frequency of the unique values "
   ]
  },
  {
   "cell_type": "code",
   "execution_count": 127,
   "metadata": {},
   "outputs": [
    {
     "output_type": "stream",
     "name": "stdout",
     "text": [
      "   first     Last                   email\n0  Corey  Schafer  CoreySchafer@gmail.com\n1   Jane      Doe       JaneDoe@gmail.com\n2   John      Doe       JohnDoe@gmail.com\nRangeIndex(start=0, stop=3, step=1)\n   first     Last                   email\n0  Corey  Schafer  CoreySchafer@gmail.com\n1   Jane      Doe       JaneDoe@gmail.com\n2   John      Doe       JohnDoe@gmail.com\nRangeIndex(start=0, stop=3, step=1)\n                        first     Last\nemail                                 \nCoreySchafer@gmail.com  Corey  Schafer\nJaneDoe@gmail.com        Jane      Doe\nJohnDoe@gmail.com        John      Doe\nIndex(['CoreySchafer@gmail.com', 'JaneDoe@gmail.com', 'JohnDoe@gmail.com'], dtype='object', name='email')\n                    email  first     Last\n0  CoreySchafer@gmail.com  Corey  Schafer\n1       JaneDoe@gmail.com   Jane      Doe\n2       JohnDoe@gmail.com   John      Doe\nRangeIndex(start=0, stop=3, step=1)\n"
     ]
    }
   ],
   "source": [
    "# making the index col by one series of dataframe\n",
    "\n",
    "print(df1)\n",
    "print(df1.index)\n",
    "df1.set_index('email')\n",
    "print(df1)   # inplace change didn't took place\n",
    "print(df1.index)\n",
    "df1.set_index('email', inplace=True)\n",
    "print(df1)\n",
    "print(df1.index)\n",
    "df1.reset_index(inplace=True)\n",
    "print(df1)\n",
    "print(df1.index)"
   ]
  },
  {
   "cell_type": "code",
   "execution_count": 128,
   "metadata": {},
   "outputs": [],
   "source": [
    "# sorting rows based on index\n",
    "df2=pd.read_csv('./sosurveydataset/survey_results_schema.csv', index_col='Column')"
   ]
  },
  {
   "cell_type": "code",
   "execution_count": 129,
   "metadata": {},
   "outputs": [
    {
     "output_type": "execute_result",
     "data": {
      "text/plain": [
       "                                                         QuestionText\n",
       "Column                                                               \n",
       "Respondent          Randomized respondent ID number (not in order ...\n",
       "MainBranch          Which of the following options best describes ...\n",
       "Hobbyist                                      Do you code as a hobby?\n",
       "Age                 What is your age (in years)? If you prefer not...\n",
       "Age1stCode          At what age did you write your first line of c...\n",
       "...                                                               ...\n",
       "WebframeWorkedWith  Which web frameworks have you done extensive d...\n",
       "WelcomeChange       Compared to last year, how welcome do you feel...\n",
       "WorkWeekHrs         On average, how many hours per week do you wor...\n",
       "YearsCode           Including any education, how many years have y...\n",
       "YearsCodePro        NOT including education, how many years have y...\n",
       "\n",
       "[61 rows x 1 columns]"
      ],
      "text/html": "<div>\n<style scoped>\n    .dataframe tbody tr th:only-of-type {\n        vertical-align: middle;\n    }\n\n    .dataframe tbody tr th {\n        vertical-align: top;\n    }\n\n    .dataframe thead th {\n        text-align: right;\n    }\n</style>\n<table border=\"1\" class=\"dataframe\">\n  <thead>\n    <tr style=\"text-align: right;\">\n      <th></th>\n      <th>QuestionText</th>\n    </tr>\n    <tr>\n      <th>Column</th>\n      <th></th>\n    </tr>\n  </thead>\n  <tbody>\n    <tr>\n      <th>Respondent</th>\n      <td>Randomized respondent ID number (not in order ...</td>\n    </tr>\n    <tr>\n      <th>MainBranch</th>\n      <td>Which of the following options best describes ...</td>\n    </tr>\n    <tr>\n      <th>Hobbyist</th>\n      <td>Do you code as a hobby?</td>\n    </tr>\n    <tr>\n      <th>Age</th>\n      <td>What is your age (in years)? If you prefer not...</td>\n    </tr>\n    <tr>\n      <th>Age1stCode</th>\n      <td>At what age did you write your first line of c...</td>\n    </tr>\n    <tr>\n      <th>...</th>\n      <td>...</td>\n    </tr>\n    <tr>\n      <th>WebframeWorkedWith</th>\n      <td>Which web frameworks have you done extensive d...</td>\n    </tr>\n    <tr>\n      <th>WelcomeChange</th>\n      <td>Compared to last year, how welcome do you feel...</td>\n    </tr>\n    <tr>\n      <th>WorkWeekHrs</th>\n      <td>On average, how many hours per week do you wor...</td>\n    </tr>\n    <tr>\n      <th>YearsCode</th>\n      <td>Including any education, how many years have y...</td>\n    </tr>\n    <tr>\n      <th>YearsCodePro</th>\n      <td>NOT including education, how many years have y...</td>\n    </tr>\n  </tbody>\n</table>\n<p>61 rows × 1 columns</p>\n</div>"
     },
     "metadata": {},
     "execution_count": 129
    }
   ],
   "source": [
    "df2"
   ]
  },
  {
   "cell_type": "code",
   "execution_count": 130,
   "metadata": {},
   "outputs": [
    {
     "output_type": "execute_result",
     "data": {
      "text/plain": [
       "                                                         QuestionText\n",
       "Column                                                               \n",
       "Age                 What is your age (in years)? If you prefer not...\n",
       "Age1stCode          At what age did you write your first line of c...\n",
       "CompFreq             Is that compensation weekly, monthly, or yearly?\n",
       "CompTotal           What is your current total compensation (salar...\n",
       "ConvertedComp       Salary converted to annual USD salaries using ...\n",
       "...                                                               ...\n",
       "WebframeWorkedWith  Which web frameworks have you done extensive d...\n",
       "WelcomeChange       Compared to last year, how welcome do you feel...\n",
       "WorkWeekHrs         On average, how many hours per week do you wor...\n",
       "YearsCode           Including any education, how many years have y...\n",
       "YearsCodePro        NOT including education, how many years have y...\n",
       "\n",
       "[61 rows x 1 columns]"
      ],
      "text/html": "<div>\n<style scoped>\n    .dataframe tbody tr th:only-of-type {\n        vertical-align: middle;\n    }\n\n    .dataframe tbody tr th {\n        vertical-align: top;\n    }\n\n    .dataframe thead th {\n        text-align: right;\n    }\n</style>\n<table border=\"1\" class=\"dataframe\">\n  <thead>\n    <tr style=\"text-align: right;\">\n      <th></th>\n      <th>QuestionText</th>\n    </tr>\n    <tr>\n      <th>Column</th>\n      <th></th>\n    </tr>\n  </thead>\n  <tbody>\n    <tr>\n      <th>Age</th>\n      <td>What is your age (in years)? If you prefer not...</td>\n    </tr>\n    <tr>\n      <th>Age1stCode</th>\n      <td>At what age did you write your first line of c...</td>\n    </tr>\n    <tr>\n      <th>CompFreq</th>\n      <td>Is that compensation weekly, monthly, or yearly?</td>\n    </tr>\n    <tr>\n      <th>CompTotal</th>\n      <td>What is your current total compensation (salar...</td>\n    </tr>\n    <tr>\n      <th>ConvertedComp</th>\n      <td>Salary converted to annual USD salaries using ...</td>\n    </tr>\n    <tr>\n      <th>...</th>\n      <td>...</td>\n    </tr>\n    <tr>\n      <th>WebframeWorkedWith</th>\n      <td>Which web frameworks have you done extensive d...</td>\n    </tr>\n    <tr>\n      <th>WelcomeChange</th>\n      <td>Compared to last year, how welcome do you feel...</td>\n    </tr>\n    <tr>\n      <th>WorkWeekHrs</th>\n      <td>On average, how many hours per week do you wor...</td>\n    </tr>\n    <tr>\n      <th>YearsCode</th>\n      <td>Including any education, how many years have y...</td>\n    </tr>\n    <tr>\n      <th>YearsCodePro</th>\n      <td>NOT including education, how many years have y...</td>\n    </tr>\n  </tbody>\n</table>\n<p>61 rows × 1 columns</p>\n</div>"
     },
     "metadata": {},
     "execution_count": 130
    }
   ],
   "source": [
    "df2.sort_index()    # this didn't took inplace change. For that, use <inplace=True> as parameter to the sort_index() method"
   ]
  },
  {
   "cell_type": "code",
   "execution_count": 131,
   "metadata": {},
   "outputs": [
    {
     "output_type": "execute_result",
     "data": {
      "text/plain": [
       "       ConvertedComp         Country\n",
       "7           116000.0   United States\n",
       "15          108576.0  United Kingdom\n",
       "16           79000.0   United States\n",
       "17         1260000.0   United States\n",
       "18           83400.0   United States\n",
       "...              ...             ...\n",
       "64113       225000.0   United States\n",
       "64116       150000.0   United States\n",
       "64127       140000.0   United States\n",
       "64129       150000.0   United States\n",
       "64141       129718.0         Germany\n",
       "\n",
       "[13178 rows x 2 columns]"
      ],
      "text/html": "<div>\n<style scoped>\n    .dataframe tbody tr th:only-of-type {\n        vertical-align: middle;\n    }\n\n    .dataframe tbody tr th {\n        vertical-align: top;\n    }\n\n    .dataframe thead th {\n        text-align: right;\n    }\n</style>\n<table border=\"1\" class=\"dataframe\">\n  <thead>\n    <tr style=\"text-align: right;\">\n      <th></th>\n      <th>ConvertedComp</th>\n      <th>Country</th>\n    </tr>\n  </thead>\n  <tbody>\n    <tr>\n      <th>7</th>\n      <td>116000.0</td>\n      <td>United States</td>\n    </tr>\n    <tr>\n      <th>15</th>\n      <td>108576.0</td>\n      <td>United Kingdom</td>\n    </tr>\n    <tr>\n      <th>16</th>\n      <td>79000.0</td>\n      <td>United States</td>\n    </tr>\n    <tr>\n      <th>17</th>\n      <td>1260000.0</td>\n      <td>United States</td>\n    </tr>\n    <tr>\n      <th>18</th>\n      <td>83400.0</td>\n      <td>United States</td>\n    </tr>\n    <tr>\n      <th>...</th>\n      <td>...</td>\n      <td>...</td>\n    </tr>\n    <tr>\n      <th>64113</th>\n      <td>225000.0</td>\n      <td>United States</td>\n    </tr>\n    <tr>\n      <th>64116</th>\n      <td>150000.0</td>\n      <td>United States</td>\n    </tr>\n    <tr>\n      <th>64127</th>\n      <td>140000.0</td>\n      <td>United States</td>\n    </tr>\n    <tr>\n      <th>64129</th>\n      <td>150000.0</td>\n      <td>United States</td>\n    </tr>\n    <tr>\n      <th>64141</th>\n      <td>129718.0</td>\n      <td>Germany</td>\n    </tr>\n  </tbody>\n</table>\n<p>13178 rows × 2 columns</p>\n</div>"
     },
     "metadata": {},
     "execution_count": 131
    }
   ],
   "source": [
    "df.loc[df['ConvertedComp'] > 70000, ['ConvertedComp', 'Country']]    # comparision happens on series"
   ]
  },
  {
   "cell_type": "code",
   "execution_count": 132,
   "metadata": {},
   "outputs": [
    {
     "output_type": "execute_result",
     "data": {
      "text/plain": [
       "       Respondent                                         MainBranch Hobbyist  \\\n",
       "0             1.0                     I am a developer by profession      Yes   \n",
       "1             2.0                     I am a developer by profession       No   \n",
       "4             5.0  I used to be a developer by profession, but no...      Yes   \n",
       "5             6.0                     I am a developer by profession       No   \n",
       "6             7.0                     I am a developer by profession      Yes   \n",
       "...           ...                                                ...      ...   \n",
       "64441     62834.0                                                NaN      Yes   \n",
       "64442     62954.0                                                NaN      Yes   \n",
       "64443     63077.0                                                NaN      Yes   \n",
       "64452     64236.0                                                NaN      Yes   \n",
       "64456     64858.0                                                NaN      Yes   \n",
       "\n",
       "        Age Age1stCode CompFreq  ...  WebframeDesireNextYear  \\\n",
       "0       NaN         13  Monthly  ...            ASP.NET Core   \n",
       "1       NaN         19      NaN  ...                     NaN   \n",
       "4      31.0         16      NaN  ...    Django;Ruby on Rails   \n",
       "5       NaN         14      NaN  ...                React.js   \n",
       "6       NaN         18  Monthly  ...                     NaN   \n",
       "...     ...        ...      ...  ...                     ...   \n",
       "64441  17.0         10      NaN  ...                     NaN   \n",
       "64442   NaN        NaN      NaN  ...                     NaN   \n",
       "64443   NaN         20      NaN  ...                     NaN   \n",
       "64452   NaN        NaN      NaN  ...                     NaN   \n",
       "64456   NaN         16      NaN  ...                     NaN   \n",
       "\n",
       "                                      WebframeWorkedWith  \\\n",
       "0                                   ASP.NET;ASP.NET Core   \n",
       "1                                                    NaN   \n",
       "4                                          Ruby on Rails   \n",
       "5                                                    NaN   \n",
       "6                                                    NaN   \n",
       "...                                                  ...   \n",
       "64441                                                NaN   \n",
       "64442  ASP.NET;ASP.NET Core;Django;jQuery;Symfony;Vue.js   \n",
       "64443                                                NaN   \n",
       "64452                                                NaN   \n",
       "64456                                                NaN   \n",
       "\n",
       "                                  WelcomeChange WorkWeekHrs YearsCode  \\\n",
       "0       Just as welcome now as I felt last year        50.0        36   \n",
       "1      Somewhat more welcome now than last year         NaN         7   \n",
       "4       Just as welcome now as I felt last year         NaN        15   \n",
       "5                                           NaN         NaN         6   \n",
       "6         A lot more welcome now than last year         NaN         6   \n",
       "...                                         ...         ...       ...   \n",
       "64441  Somewhat more welcome now than last year         NaN         7   \n",
       "64442                                       NaN         NaN       NaN   \n",
       "64443                                       NaN         NaN         4   \n",
       "64452                                       NaN         NaN       NaN   \n",
       "64456                                       NaN         NaN        10   \n",
       "\n",
       "           YearsCodePro  \n",
       "0                    27  \n",
       "1                     4  \n",
       "4                     8  \n",
       "5                     4  \n",
       "6                     4  \n",
       "...                 ...  \n",
       "64441               NaN  \n",
       "64442               NaN  \n",
       "64443               NaN  \n",
       "64452               NaN  \n",
       "64456  Less than 1 year  \n",
       "\n",
       "[30849 rows x 61 columns]"
      ],
      "text/html": "<div>\n<style scoped>\n    .dataframe tbody tr th:only-of-type {\n        vertical-align: middle;\n    }\n\n    .dataframe tbody tr th {\n        vertical-align: top;\n    }\n\n    .dataframe thead th {\n        text-align: right;\n    }\n</style>\n<table border=\"1\" class=\"dataframe\">\n  <thead>\n    <tr style=\"text-align: right;\">\n      <th></th>\n      <th>Respondent</th>\n      <th>MainBranch</th>\n      <th>Hobbyist</th>\n      <th>Age</th>\n      <th>Age1stCode</th>\n      <th>CompFreq</th>\n      <th>...</th>\n      <th>WebframeDesireNextYear</th>\n      <th>WebframeWorkedWith</th>\n      <th>WelcomeChange</th>\n      <th>WorkWeekHrs</th>\n      <th>YearsCode</th>\n      <th>YearsCodePro</th>\n    </tr>\n  </thead>\n  <tbody>\n    <tr>\n      <th>0</th>\n      <td>1.0</td>\n      <td>I am a developer by profession</td>\n      <td>Yes</td>\n      <td>NaN</td>\n      <td>13</td>\n      <td>Monthly</td>\n      <td>...</td>\n      <td>ASP.NET Core</td>\n      <td>ASP.NET;ASP.NET Core</td>\n      <td>Just as welcome now as I felt last year</td>\n      <td>50.0</td>\n      <td>36</td>\n      <td>27</td>\n    </tr>\n    <tr>\n      <th>1</th>\n      <td>2.0</td>\n      <td>I am a developer by profession</td>\n      <td>No</td>\n      <td>NaN</td>\n      <td>19</td>\n      <td>NaN</td>\n      <td>...</td>\n      <td>NaN</td>\n      <td>NaN</td>\n      <td>Somewhat more welcome now than last year</td>\n      <td>NaN</td>\n      <td>7</td>\n      <td>4</td>\n    </tr>\n    <tr>\n      <th>4</th>\n      <td>5.0</td>\n      <td>I used to be a developer by profession, but no...</td>\n      <td>Yes</td>\n      <td>31.0</td>\n      <td>16</td>\n      <td>NaN</td>\n      <td>...</td>\n      <td>Django;Ruby on Rails</td>\n      <td>Ruby on Rails</td>\n      <td>Just as welcome now as I felt last year</td>\n      <td>NaN</td>\n      <td>15</td>\n      <td>8</td>\n    </tr>\n    <tr>\n      <th>5</th>\n      <td>6.0</td>\n      <td>I am a developer by profession</td>\n      <td>No</td>\n      <td>NaN</td>\n      <td>14</td>\n      <td>NaN</td>\n      <td>...</td>\n      <td>React.js</td>\n      <td>NaN</td>\n      <td>NaN</td>\n      <td>NaN</td>\n      <td>6</td>\n      <td>4</td>\n    </tr>\n    <tr>\n      <th>6</th>\n      <td>7.0</td>\n      <td>I am a developer by profession</td>\n      <td>Yes</td>\n      <td>NaN</td>\n      <td>18</td>\n      <td>Monthly</td>\n      <td>...</td>\n      <td>NaN</td>\n      <td>NaN</td>\n      <td>A lot more welcome now than last year</td>\n      <td>NaN</td>\n      <td>6</td>\n      <td>4</td>\n    </tr>\n    <tr>\n      <th>...</th>\n      <td>...</td>\n      <td>...</td>\n      <td>...</td>\n      <td>...</td>\n      <td>...</td>\n      <td>...</td>\n      <td>...</td>\n      <td>...</td>\n      <td>...</td>\n      <td>...</td>\n      <td>...</td>\n      <td>...</td>\n      <td>...</td>\n    </tr>\n    <tr>\n      <th>64441</th>\n      <td>62834.0</td>\n      <td>NaN</td>\n      <td>Yes</td>\n      <td>17.0</td>\n      <td>10</td>\n      <td>NaN</td>\n      <td>...</td>\n      <td>NaN</td>\n      <td>NaN</td>\n      <td>Somewhat more welcome now than last year</td>\n      <td>NaN</td>\n      <td>7</td>\n      <td>NaN</td>\n    </tr>\n    <tr>\n      <th>64442</th>\n      <td>62954.0</td>\n      <td>NaN</td>\n      <td>Yes</td>\n      <td>NaN</td>\n      <td>NaN</td>\n      <td>NaN</td>\n      <td>...</td>\n      <td>NaN</td>\n      <td>ASP.NET;ASP.NET Core;Django;jQuery;Symfony;Vue.js</td>\n      <td>NaN</td>\n      <td>NaN</td>\n      <td>NaN</td>\n      <td>NaN</td>\n    </tr>\n    <tr>\n      <th>64443</th>\n      <td>63077.0</td>\n      <td>NaN</td>\n      <td>Yes</td>\n      <td>NaN</td>\n      <td>20</td>\n      <td>NaN</td>\n      <td>...</td>\n      <td>NaN</td>\n      <td>NaN</td>\n      <td>NaN</td>\n      <td>NaN</td>\n      <td>4</td>\n      <td>NaN</td>\n    </tr>\n    <tr>\n      <th>64452</th>\n      <td>64236.0</td>\n      <td>NaN</td>\n      <td>Yes</td>\n      <td>NaN</td>\n      <td>NaN</td>\n      <td>NaN</td>\n      <td>...</td>\n      <td>NaN</td>\n      <td>NaN</td>\n      <td>NaN</td>\n      <td>NaN</td>\n      <td>NaN</td>\n      <td>NaN</td>\n    </tr>\n    <tr>\n      <th>64456</th>\n      <td>64858.0</td>\n      <td>NaN</td>\n      <td>Yes</td>\n      <td>NaN</td>\n      <td>16</td>\n      <td>NaN</td>\n      <td>...</td>\n      <td>NaN</td>\n      <td>NaN</td>\n      <td>NaN</td>\n      <td>NaN</td>\n      <td>10</td>\n      <td>Less than 1 year</td>\n    </tr>\n  </tbody>\n</table>\n<p>30849 rows × 61 columns</p>\n</div>"
     },
     "metadata": {},
     "execution_count": 132
    }
   ],
   "source": [
    "countries = ['United States', 'India', 'United Kingdom', 'Germany', 'Canada']\n",
    "filt = df['Country'].isin(countries)\n",
    "df.loc[filt]"
   ]
  },
  {
   "cell_type": "code",
   "execution_count": 133,
   "metadata": {},
   "outputs": [
    {
     "output_type": "execute_result",
     "data": {
      "text/plain": [
       "2                                 Objective-C;Python;Swift\n",
       "7                                               Python;SQL\n",
       "9                      HTML/CSS;Java;JavaScript;Python;SQL\n",
       "12                                     C;JavaScript;Python\n",
       "14        Bash/Shell/PowerShell;C;HTML/CSS;Java;Python;SQL\n",
       "                               ...                        \n",
       "64433    Bash/Shell/PowerShell;HTML/CSS;JavaScript;Perl...\n",
       "64438       C++;HTML/CSS;JavaScript;Python;Ruby;TypeScript\n",
       "64443              C++;HTML/CSS;Java;JavaScript;Python;SQL\n",
       "64446    Bash/Shell/PowerShell;C;C#;C++;HTML/CSS;Java;J...\n",
       "64457    Assembly;Bash/Shell/PowerShell;C;C#;C++;Dart;G...\n",
       "Name: LanguageWorkedWith, Length: 25287, dtype: object"
      ]
     },
     "metadata": {},
     "execution_count": 133
    }
   ],
   "source": [
    "filt = df['LanguageWorkedWith'].str.contains('Python', na=False)\n",
    "df.loc[filt, 'LanguageWorkedWith']"
   ]
  },
  {
   "source": [
    "## Updating column names of DFs"
   ],
   "cell_type": "markdown",
   "metadata": {}
  },
  {
   "cell_type": "code",
   "execution_count": 134,
   "metadata": {},
   "outputs": [
    {
     "output_type": "stream",
     "name": "stdout",
     "text": [
      "                    email  first     Last\n0  CoreySchafer@gmail.com  Corey  Schafer\n1       JaneDoe@gmail.com   Jane      Doe\n2       JohnDoe@gmail.com   John      Doe\nIndex(['Email', 'First Name', 'Last Name'], dtype='object')\nIndex(['EMAIL', 'FIRST NAME', 'LAST NAME'], dtype='object')\nIndex(['EMAIL', 'FIRST-NAME', 'LAST-NAME'], dtype='object')\n"
     ]
    }
   ],
   "source": [
    "# changing all columns name inplace by default\n",
    "print(df1)\n",
    "df1.columns = ['Email', 'First Name', 'Last Name'] # this methos requires all column of DFs, even if all name changes are not required\n",
    "print(df1.columns)\n",
    "df1.columns = [x.upper() for x in df1.columns]\n",
    "print(df1.columns)\n",
    "df1.columns = df1.columns.str.replace(' ','-')\n",
    "print(df1.columns)\n",
    "df1.columns = [x.lower().replace('-','_') for x in df1.columns]"
   ]
  },
  {
   "cell_type": "code",
   "execution_count": 135,
   "metadata": {},
   "outputs": [
    {
     "output_type": "execute_result",
     "data": {
      "text/plain": [
       "Index(['email', 'first_name', 'last_name'], dtype='object')"
      ]
     },
     "metadata": {},
     "execution_count": 135
    }
   ],
   "source": [
    "df1.columns"
   ]
  },
  {
   "cell_type": "code",
   "execution_count": 136,
   "metadata": {},
   "outputs": [
    {
     "output_type": "execute_result",
     "data": {
      "text/plain": [
       "                    email  first     last\n",
       "0  CoreySchafer@gmail.com  Corey  Schafer\n",
       "1       JaneDoe@gmail.com   Jane      Doe\n",
       "2       JohnDoe@gmail.com   John      Doe"
      ],
      "text/html": "<div>\n<style scoped>\n    .dataframe tbody tr th:only-of-type {\n        vertical-align: middle;\n    }\n\n    .dataframe tbody tr th {\n        vertical-align: top;\n    }\n\n    .dataframe thead th {\n        text-align: right;\n    }\n</style>\n<table border=\"1\" class=\"dataframe\">\n  <thead>\n    <tr style=\"text-align: right;\">\n      <th></th>\n      <th>email</th>\n      <th>first</th>\n      <th>last</th>\n    </tr>\n  </thead>\n  <tbody>\n    <tr>\n      <th>0</th>\n      <td>CoreySchafer@gmail.com</td>\n      <td>Corey</td>\n      <td>Schafer</td>\n    </tr>\n    <tr>\n      <th>1</th>\n      <td>JaneDoe@gmail.com</td>\n      <td>Jane</td>\n      <td>Doe</td>\n    </tr>\n    <tr>\n      <th>2</th>\n      <td>JohnDoe@gmail.com</td>\n      <td>John</td>\n      <td>Doe</td>\n    </tr>\n  </tbody>\n</table>\n</div>"
     },
     "metadata": {},
     "execution_count": 136
    }
   ],
   "source": [
    "# changing specific column name with explicitly mentioning inplace parameter\n",
    "df1.rename(columns={'first_name':'first', 'last_name':'last'}, inplace=True)\n",
    "df1"
   ]
  },
  {
   "source": [
    "## Updating data in DFs"
   ],
   "cell_type": "markdown",
   "metadata": {}
  },
  {
   "cell_type": "code",
   "execution_count": 139,
   "metadata": {},
   "outputs": [
    {
     "output_type": "execute_result",
     "data": {
      "text/plain": [
       "                    email  first     last\n",
       "0  CoreySchafer@gmail.com  Corey  Schafer\n",
       "1       JaneDoe@gmail.com   Jane      Doe\n",
       "2     johnsmith@gmail.com   John    Smith"
      ],
      "text/html": "<div>\n<style scoped>\n    .dataframe tbody tr th:only-of-type {\n        vertical-align: middle;\n    }\n\n    .dataframe tbody tr th {\n        vertical-align: top;\n    }\n\n    .dataframe thead th {\n        text-align: right;\n    }\n</style>\n<table border=\"1\" class=\"dataframe\">\n  <thead>\n    <tr style=\"text-align: right;\">\n      <th></th>\n      <th>email</th>\n      <th>first</th>\n      <th>last</th>\n    </tr>\n  </thead>\n  <tbody>\n    <tr>\n      <th>0</th>\n      <td>CoreySchafer@gmail.com</td>\n      <td>Corey</td>\n      <td>Schafer</td>\n    </tr>\n    <tr>\n      <th>1</th>\n      <td>JaneDoe@gmail.com</td>\n      <td>Jane</td>\n      <td>Doe</td>\n    </tr>\n    <tr>\n      <th>2</th>\n      <td>johnsmith@gmail.com</td>\n      <td>John</td>\n      <td>Smith</td>\n    </tr>\n  </tbody>\n</table>\n</div>"
     },
     "metadata": {},
     "execution_count": 139
    }
   ],
   "source": [
    "# changing single row and all of its column vaue, i.e., entirely whole row\n",
    "df1.loc[2] = ['johnsmith@gmail.com', 'John', 'Smith']\n",
    "df1"
   ]
  },
  {
   "cell_type": "code",
   "execution_count": 140,
   "metadata": {},
   "outputs": [
    {
     "output_type": "execute_result",
     "data": {
      "text/plain": [
       "                    email  first     last\n",
       "0  CoreySchafer@gmail.com  Corey  Schafer\n",
       "1    JaneDoodle@email.com   Jane   Doodle\n",
       "2     johnsmith@gmail.com   John    Smith"
      ],
      "text/html": "<div>\n<style scoped>\n    .dataframe tbody tr th:only-of-type {\n        vertical-align: middle;\n    }\n\n    .dataframe tbody tr th {\n        vertical-align: top;\n    }\n\n    .dataframe thead th {\n        text-align: right;\n    }\n</style>\n<table border=\"1\" class=\"dataframe\">\n  <thead>\n    <tr style=\"text-align: right;\">\n      <th></th>\n      <th>email</th>\n      <th>first</th>\n      <th>last</th>\n    </tr>\n  </thead>\n  <tbody>\n    <tr>\n      <th>0</th>\n      <td>CoreySchafer@gmail.com</td>\n      <td>Corey</td>\n      <td>Schafer</td>\n    </tr>\n    <tr>\n      <th>1</th>\n      <td>JaneDoodle@email.com</td>\n      <td>Jane</td>\n      <td>Doodle</td>\n    </tr>\n    <tr>\n      <th>2</th>\n      <td>johnsmith@gmail.com</td>\n      <td>John</td>\n      <td>Smith</td>\n    </tr>\n  </tbody>\n</table>\n</div>"
     },
     "metadata": {},
     "execution_count": 140
    }
   ],
   "source": [
    "# changing specific columns for a given row\n",
    "df1.loc[1, ['email', 'last']] = ['JaneDoodle@email.com', 'Doodle']  # Also, for only single vale to be change, list is not required in LHS or RHS\n",
    "df1\n",
    "# one can also use df1.[filt, col(s)] = <[>col(s)<]>"
   ]
  },
  {
   "cell_type": "code",
   "execution_count": 143,
   "metadata": {},
   "outputs": [
    {
     "output_type": "execute_result",
     "data": {
      "text/plain": [
       "                    email  first     last\n",
       "0  coreyschafer@gmail.com  Corey  Schafer\n",
       "1    janedoodle@email.com   Jane   Doodle\n",
       "2     johnsmith@gmail.com   John    Smith"
      ],
      "text/html": "<div>\n<style scoped>\n    .dataframe tbody tr th:only-of-type {\n        vertical-align: middle;\n    }\n\n    .dataframe tbody tr th {\n        vertical-align: top;\n    }\n\n    .dataframe thead th {\n        text-align: right;\n    }\n</style>\n<table border=\"1\" class=\"dataframe\">\n  <thead>\n    <tr style=\"text-align: right;\">\n      <th></th>\n      <th>email</th>\n      <th>first</th>\n      <th>last</th>\n    </tr>\n  </thead>\n  <tbody>\n    <tr>\n      <th>0</th>\n      <td>coreyschafer@gmail.com</td>\n      <td>Corey</td>\n      <td>Schafer</td>\n    </tr>\n    <tr>\n      <th>1</th>\n      <td>janedoodle@email.com</td>\n      <td>Jane</td>\n      <td>Doodle</td>\n    </tr>\n    <tr>\n      <th>2</th>\n      <td>johnsmith@gmail.com</td>\n      <td>John</td>\n      <td>Smith</td>\n    </tr>\n  </tbody>\n</table>\n</div>"
     },
     "metadata": {},
     "execution_count": 143
    }
   ],
   "source": [
    "df1['email'] = df1['email'].str.lower()\n",
    "df1"
   ]
  },
  {
   "source": [
    "### apply\n",
    "used for calling function on every values of our data structure. Can be applied on Series as well as on DFs. NOT inplace."
   ],
   "cell_type": "markdown",
   "metadata": {}
  },
  {
   "cell_type": "code",
   "execution_count": 145,
   "metadata": {},
   "outputs": [
    {
     "output_type": "execute_result",
     "data": {
      "text/plain": [
       "0    22\n",
       "1    20\n",
       "2    19\n",
       "Name: email, dtype: int64"
      ]
     },
     "metadata": {},
     "execution_count": 145
    }
   ],
   "source": [
    "df1.email.apply(len)"
   ]
  },
  {
   "cell_type": "code",
   "execution_count": 147,
   "metadata": {},
   "outputs": [],
   "source": [
    "def update_email(email):\n",
    "    return email.upper()\n",
    "\n",
    "df1['email'] = df1.email.apply(update_email)"
   ]
  },
  {
   "cell_type": "code",
   "execution_count": 149,
   "metadata": {},
   "outputs": [
    {
     "output_type": "execute_result",
     "data": {
      "text/plain": [
       "                    email  first     last\n",
       "0  COREYSCHAFER@GMAIL.COM  Corey  Schafer\n",
       "1    JANEDOODLE@EMAIL.COM   Jane   Doodle\n",
       "2     JOHNSMITH@GMAIL.COM   John    Smith"
      ],
      "text/html": "<div>\n<style scoped>\n    .dataframe tbody tr th:only-of-type {\n        vertical-align: middle;\n    }\n\n    .dataframe tbody tr th {\n        vertical-align: top;\n    }\n\n    .dataframe thead th {\n        text-align: right;\n    }\n</style>\n<table border=\"1\" class=\"dataframe\">\n  <thead>\n    <tr style=\"text-align: right;\">\n      <th></th>\n      <th>email</th>\n      <th>first</th>\n      <th>last</th>\n    </tr>\n  </thead>\n  <tbody>\n    <tr>\n      <th>0</th>\n      <td>COREYSCHAFER@GMAIL.COM</td>\n      <td>Corey</td>\n      <td>Schafer</td>\n    </tr>\n    <tr>\n      <th>1</th>\n      <td>JANEDOODLE@EMAIL.COM</td>\n      <td>Jane</td>\n      <td>Doodle</td>\n    </tr>\n    <tr>\n      <th>2</th>\n      <td>JOHNSMITH@GMAIL.COM</td>\n      <td>John</td>\n      <td>Smith</td>\n    </tr>\n  </tbody>\n</table>\n</div>"
     },
     "metadata": {},
     "execution_count": 149
    }
   ],
   "source": [
    "df1"
   ]
  },
  {
   "cell_type": "code",
   "execution_count": 150,
   "metadata": {},
   "outputs": [
    {
     "output_type": "stream",
     "name": "stdout",
     "text": [
      "                    email  first     last\n0  coreyschafer@gmail.com  Corey  Schafer\n1    janedoodle@email.com   Jane   Doodle\n2     johnsmith@gmail.com   John    Smith\n"
     ]
    }
   ],
   "source": [
    "df1['email'] = df1.email.apply(lambda x : x.lower())\n",
    "print(df1)"
   ]
  },
  {
   "cell_type": "code",
   "execution_count": 152,
   "metadata": {},
   "outputs": [
    {
     "output_type": "stream",
     "name": "stdout",
     "text": [
      "email    3\nfirst    3\nlast     3\ndtype: int64\n0    3\n1    3\n2    3\ndtype: int64\n"
     ]
    }
   ],
   "source": [
    "# apply on dataframes\n",
    "print(df1.apply(len))   # axis is set to rows by default\n",
    "print(df1.apply(len, axis = 'columns'))"
   ]
  },
  {
   "cell_type": "code",
   "execution_count": 153,
   "metadata": {},
   "outputs": [
    {
     "output_type": "execute_result",
     "data": {
      "text/plain": [
       "email    coreyschafer@gmail.com\n",
       "first                     Corey\n",
       "last                     Doodle\n",
       "dtype: object"
      ]
     },
     "metadata": {},
     "execution_count": 153
    }
   ],
   "source": [
    "# finding minimum value from each series of the dataframe\n",
    "df1.apply(pd.Series.min)"
   ]
  },
  {
   "cell_type": "code",
   "execution_count": 154,
   "metadata": {},
   "outputs": [
    {
     "output_type": "execute_result",
     "data": {
      "text/plain": [
       "email    coreyschafer@gmail.com\n",
       "first                     Corey\n",
       "last                     Doodle\n",
       "dtype: object"
      ]
     },
     "metadata": {},
     "execution_count": 154
    }
   ],
   "source": [
    "# while lambda function runs on the Series by default. We dont need to explicitly specify the pd.seried while using the dataframe with apply\n",
    "df1.apply(lambda x : x.min())   # look at it. X is itself a series, and we are finding the minimum from every series. This is useful for numerical analysis."
   ]
  },
  {
   "source": [
    "### applymap\n",
    "It works only on the dataframes. It does not work on the series data structures. It is used to run functions on every element of the dataframes. NOT inplace."
   ],
   "cell_type": "markdown",
   "metadata": {}
  },
  {
   "cell_type": "code",
   "execution_count": 159,
   "metadata": {},
   "outputs": [
    {
     "output_type": "stream",
     "name": "stdout",
     "text": [
      "   email  first  last\n0     22      5     7\n1     20      4     6\n2     19      4     5\n                    email  first     last\n0  coreyschafer@gmail.com  corey  schafer\n1    janedoodle@email.com   jane   doodle\n2     johnsmith@gmail.com   john    smith\n"
     ]
    },
    {
     "output_type": "execute_result",
     "data": {
      "text/plain": [
       "                    email  first     last\n",
       "0  coreyschafer@gmail.com  Corey  Schafer\n",
       "1    janedoodle@email.com   Jane   Doodle\n",
       "2     johnsmith@gmail.com   John    Smith"
      ],
      "text/html": "<div>\n<style scoped>\n    .dataframe tbody tr th:only-of-type {\n        vertical-align: middle;\n    }\n\n    .dataframe tbody tr th {\n        vertical-align: top;\n    }\n\n    .dataframe thead th {\n        text-align: right;\n    }\n</style>\n<table border=\"1\" class=\"dataframe\">\n  <thead>\n    <tr style=\"text-align: right;\">\n      <th></th>\n      <th>email</th>\n      <th>first</th>\n      <th>last</th>\n    </tr>\n  </thead>\n  <tbody>\n    <tr>\n      <th>0</th>\n      <td>coreyschafer@gmail.com</td>\n      <td>Corey</td>\n      <td>Schafer</td>\n    </tr>\n    <tr>\n      <th>1</th>\n      <td>janedoodle@email.com</td>\n      <td>Jane</td>\n      <td>Doodle</td>\n    </tr>\n    <tr>\n      <th>2</th>\n      <td>johnsmith@gmail.com</td>\n      <td>John</td>\n      <td>Smith</td>\n    </tr>\n  </tbody>\n</table>\n</div>"
     },
     "metadata": {},
     "execution_count": 159
    }
   ],
   "source": [
    "print(df1.applymap(len))\n",
    "print(df1.applymap(str.lower))\n",
    "df1"
   ]
  },
  {
   "source": [
    "### map\n",
    "It only works on a series. It is used to substitute each value in the series with another value. NOT inplace."
   ],
   "cell_type": "markdown",
   "metadata": {}
  },
  {
   "cell_type": "code",
   "execution_count": 160,
   "metadata": {},
   "outputs": [
    {
     "output_type": "execute_result",
     "data": {
      "text/plain": [
       "0     kirrr\n",
       "1    girrrh\n",
       "2       NaN\n",
       "Name: first, dtype: object"
      ]
     },
     "metadata": {},
     "execution_count": 160
    }
   ],
   "source": [
    "df1['first'].map({'Corey':'kirrr', 'Jane':'girrrh'})    # those values which are not mentioned in the dictionary, will be turned into NaN."
   ]
  },
  {
   "source": [
    "### replace\n",
    "for handling the error of the map that gives NaN, we use replace. Here, only specfied values will get altered. NOT inplace."
   ],
   "cell_type": "markdown",
   "metadata": {}
  },
  {
   "cell_type": "code",
   "execution_count": 161,
   "metadata": {},
   "outputs": [
    {
     "output_type": "execute_result",
     "data": {
      "text/plain": [
       "0     kirrr\n",
       "1    girrrh\n",
       "2      John\n",
       "Name: first, dtype: object"
      ]
     },
     "metadata": {},
     "execution_count": 161
    }
   ],
   "source": [
    "df1['first'].replace({'Corey':'kirrr', 'Jane':'girrrh'})"
   ]
  },
  {
   "cell_type": "code",
   "execution_count": 173,
   "metadata": {},
   "outputs": [
    {
     "output_type": "execute_result",
     "data": {
      "text/plain": [
       "                    email  first     last      full_name\n",
       "0  coreyschafer@gmail.com  Corey  Schafer  Corey Schafer\n",
       "1    janedoodle@email.com   Jane   Doodle    Jane Doodle\n",
       "2     johnsmith@gmail.com   John    Smith     John Smith"
      ],
      "text/html": "<div>\n<style scoped>\n    .dataframe tbody tr th:only-of-type {\n        vertical-align: middle;\n    }\n\n    .dataframe tbody tr th {\n        vertical-align: top;\n    }\n\n    .dataframe thead th {\n        text-align: right;\n    }\n</style>\n<table border=\"1\" class=\"dataframe\">\n  <thead>\n    <tr style=\"text-align: right;\">\n      <th></th>\n      <th>email</th>\n      <th>first</th>\n      <th>last</th>\n      <th>full_name</th>\n    </tr>\n  </thead>\n  <tbody>\n    <tr>\n      <th>0</th>\n      <td>coreyschafer@gmail.com</td>\n      <td>Corey</td>\n      <td>Schafer</td>\n      <td>Corey Schafer</td>\n    </tr>\n    <tr>\n      <th>1</th>\n      <td>janedoodle@email.com</td>\n      <td>Jane</td>\n      <td>Doodle</td>\n      <td>Jane Doodle</td>\n    </tr>\n    <tr>\n      <th>2</th>\n      <td>johnsmith@gmail.com</td>\n      <td>John</td>\n      <td>Smith</td>\n      <td>John Smith</td>\n    </tr>\n  </tbody>\n</table>\n</div>"
     },
     "metadata": {},
     "execution_count": 173
    }
   ],
   "source": [
    "# add columns\n",
    "df1['full_name'] = df1['first'] + ' ' + df1['last']\n",
    "df1"
   ]
  },
  {
   "cell_type": "code",
   "execution_count": 174,
   "metadata": {},
   "outputs": [
    {
     "output_type": "execute_result",
     "data": {
      "text/plain": [
       "                    email  first     last\n",
       "0  coreyschafer@gmail.com  Corey  Schafer\n",
       "1    janedoodle@email.com   Jane   Doodle\n",
       "2     johnsmith@gmail.com   John    Smith"
      ],
      "text/html": "<div>\n<style scoped>\n    .dataframe tbody tr th:only-of-type {\n        vertical-align: middle;\n    }\n\n    .dataframe tbody tr th {\n        vertical-align: top;\n    }\n\n    .dataframe thead th {\n        text-align: right;\n    }\n</style>\n<table border=\"1\" class=\"dataframe\">\n  <thead>\n    <tr style=\"text-align: right;\">\n      <th></th>\n      <th>email</th>\n      <th>first</th>\n      <th>last</th>\n    </tr>\n  </thead>\n  <tbody>\n    <tr>\n      <th>0</th>\n      <td>coreyschafer@gmail.com</td>\n      <td>Corey</td>\n      <td>Schafer</td>\n    </tr>\n    <tr>\n      <th>1</th>\n      <td>janedoodle@email.com</td>\n      <td>Jane</td>\n      <td>Doodle</td>\n    </tr>\n    <tr>\n      <th>2</th>\n      <td>johnsmith@gmail.com</td>\n      <td>John</td>\n      <td>Smith</td>\n    </tr>\n  </tbody>\n</table>\n</div>"
     },
     "metadata": {},
     "execution_count": 174
    }
   ],
   "source": [
    "# removing cols\n",
    "df1.drop(columns='full_name', inplace=True)   # or, columns=['col1', 'col2', ...]\n",
    "df1"
   ]
  },
  {
   "cell_type": "code",
   "execution_count": 175,
   "metadata": {},
   "outputs": [
    {
     "output_type": "execute_result",
     "data": {
      "text/plain": [
       "                    email  first     last      full_name firstname lastname\n",
       "0  coreyschafer@gmail.com  Corey  Schafer  Corey Schafer     Corey  Schafer\n",
       "1    janedoodle@email.com   Jane   Doodle    Jane Doodle      Jane   Doodle\n",
       "2     johnsmith@gmail.com   John    Smith     John Smith      John    Smith"
      ],
      "text/html": "<div>\n<style scoped>\n    .dataframe tbody tr th:only-of-type {\n        vertical-align: middle;\n    }\n\n    .dataframe tbody tr th {\n        vertical-align: top;\n    }\n\n    .dataframe thead th {\n        text-align: right;\n    }\n</style>\n<table border=\"1\" class=\"dataframe\">\n  <thead>\n    <tr style=\"text-align: right;\">\n      <th></th>\n      <th>email</th>\n      <th>first</th>\n      <th>last</th>\n      <th>full_name</th>\n      <th>firstname</th>\n      <th>lastname</th>\n    </tr>\n  </thead>\n  <tbody>\n    <tr>\n      <th>0</th>\n      <td>coreyschafer@gmail.com</td>\n      <td>Corey</td>\n      <td>Schafer</td>\n      <td>Corey Schafer</td>\n      <td>Corey</td>\n      <td>Schafer</td>\n    </tr>\n    <tr>\n      <th>1</th>\n      <td>janedoodle@email.com</td>\n      <td>Jane</td>\n      <td>Doodle</td>\n      <td>Jane Doodle</td>\n      <td>Jane</td>\n      <td>Doodle</td>\n    </tr>\n    <tr>\n      <th>2</th>\n      <td>johnsmith@gmail.com</td>\n      <td>John</td>\n      <td>Smith</td>\n      <td>John Smith</td>\n      <td>John</td>\n      <td>Smith</td>\n    </tr>\n  </tbody>\n</table>\n</div>"
     },
     "metadata": {},
     "execution_count": 175
    }
   ],
   "source": [
    "df1['full_name'] = df1['first'] + ' ' + df1['last']\n",
    "\n",
    "# split column\n",
    "\n",
    "df1[['firstname', 'lastname']] = df1['full_name'].str.split(' ',expand = True)\n",
    "df1"
   ]
  },
  {
   "source": [
    "### removing or adding rows of data\n",
    "\n",
    "append doesn't have inplace parameter. Hence for permanent change, use df1= df1.appen......................"
   ],
   "cell_type": "markdown",
   "metadata": {}
  },
  {
   "cell_type": "code",
   "execution_count": 180,
   "metadata": {},
   "outputs": [
    {
     "output_type": "execute_result",
     "data": {
      "text/plain": [
       "                    email  first     last      full_name  \\\n",
       "0  coreyschafer@gmail.com  Corey  Schafer  Corey Schafer   \n",
       "1    janedoodle@email.com   Jane   Doodle    Jane Doodle   \n",
       "2     johnsmith@gmail.com   John    Smith     John Smith   \n",
       "3                     NaN    NaN      NaN            NaN   \n",
       "\n",
       "                   firstname lastname  \n",
       "0                      Corey  Schafer  \n",
       "1                       Jane   Doodle  \n",
       "2                       John    Smith  \n",
       "3  [wubba, lubba, dub, dubb]      NaN  "
      ],
      "text/html": "<div>\n<style scoped>\n    .dataframe tbody tr th:only-of-type {\n        vertical-align: middle;\n    }\n\n    .dataframe tbody tr th {\n        vertical-align: top;\n    }\n\n    .dataframe thead th {\n        text-align: right;\n    }\n</style>\n<table border=\"1\" class=\"dataframe\">\n  <thead>\n    <tr style=\"text-align: right;\">\n      <th></th>\n      <th>email</th>\n      <th>first</th>\n      <th>last</th>\n      <th>full_name</th>\n      <th>firstname</th>\n      <th>lastname</th>\n    </tr>\n  </thead>\n  <tbody>\n    <tr>\n      <th>0</th>\n      <td>coreyschafer@gmail.com</td>\n      <td>Corey</td>\n      <td>Schafer</td>\n      <td>Corey Schafer</td>\n      <td>Corey</td>\n      <td>Schafer</td>\n    </tr>\n    <tr>\n      <th>1</th>\n      <td>janedoodle@email.com</td>\n      <td>Jane</td>\n      <td>Doodle</td>\n      <td>Jane Doodle</td>\n      <td>Jane</td>\n      <td>Doodle</td>\n    </tr>\n    <tr>\n      <th>2</th>\n      <td>johnsmith@gmail.com</td>\n      <td>John</td>\n      <td>Smith</td>\n      <td>John Smith</td>\n      <td>John</td>\n      <td>Smith</td>\n    </tr>\n    <tr>\n      <th>3</th>\n      <td>NaN</td>\n      <td>NaN</td>\n      <td>NaN</td>\n      <td>NaN</td>\n      <td>[wubba, lubba, dub, dubb]</td>\n      <td>NaN</td>\n    </tr>\n  </tbody>\n</table>\n</div>"
     },
     "metadata": {},
     "execution_count": 180
    }
   ],
   "source": [
    "# adding row of data. This is NOT INPLACE change\n",
    "df1.append({'firstname':'sharan'}, ignore_index=True)\n",
    "df1.append({'firstname':['wubba', 'lubba', 'dub', 'dubb']}, ignore_index=True)"
   ]
  },
  {
   "cell_type": "code",
   "execution_count": 182,
   "metadata": {},
   "outputs": [],
   "source": [
    "ppl = {\n",
    "    'first' : ['Tony', 'Steve'],\n",
    "    'last' : ['Stark', 'Rogers'],\n",
    "    'email' : ['notyourkakkar@avengers.com', 'itsyourcap@avengers.com']\n",
    "}"
   ]
  },
  {
   "cell_type": "code",
   "execution_count": 184,
   "metadata": {},
   "outputs": [],
   "source": [
    "ndf = pd.DataFrame(ppl)"
   ]
  },
  {
   "cell_type": "code",
   "execution_count": 185,
   "metadata": {},
   "outputs": [],
   "source": [
    "df1 = df1.append(ndf, ignore_index=True)"
   ]
  },
  {
   "cell_type": "code",
   "execution_count": 186,
   "metadata": {},
   "outputs": [
    {
     "output_type": "execute_result",
     "data": {
      "text/plain": [
       "                        email  first     last      full_name firstname  \\\n",
       "0      coreyschafer@gmail.com  Corey  Schafer  Corey Schafer     Corey   \n",
       "1        janedoodle@email.com   Jane   Doodle    Jane Doodle      Jane   \n",
       "2         johnsmith@gmail.com   John    Smith     John Smith      John   \n",
       "3  notyourkakkar@avengers.com   Tony    Stark            NaN       NaN   \n",
       "4     itsyourcap@avengers.com  Steve   Rogers            NaN       NaN   \n",
       "\n",
       "  lastname  \n",
       "0  Schafer  \n",
       "1   Doodle  \n",
       "2    Smith  \n",
       "3      NaN  \n",
       "4      NaN  "
      ],
      "text/html": "<div>\n<style scoped>\n    .dataframe tbody tr th:only-of-type {\n        vertical-align: middle;\n    }\n\n    .dataframe tbody tr th {\n        vertical-align: top;\n    }\n\n    .dataframe thead th {\n        text-align: right;\n    }\n</style>\n<table border=\"1\" class=\"dataframe\">\n  <thead>\n    <tr style=\"text-align: right;\">\n      <th></th>\n      <th>email</th>\n      <th>first</th>\n      <th>last</th>\n      <th>full_name</th>\n      <th>firstname</th>\n      <th>lastname</th>\n    </tr>\n  </thead>\n  <tbody>\n    <tr>\n      <th>0</th>\n      <td>coreyschafer@gmail.com</td>\n      <td>Corey</td>\n      <td>Schafer</td>\n      <td>Corey Schafer</td>\n      <td>Corey</td>\n      <td>Schafer</td>\n    </tr>\n    <tr>\n      <th>1</th>\n      <td>janedoodle@email.com</td>\n      <td>Jane</td>\n      <td>Doodle</td>\n      <td>Jane Doodle</td>\n      <td>Jane</td>\n      <td>Doodle</td>\n    </tr>\n    <tr>\n      <th>2</th>\n      <td>johnsmith@gmail.com</td>\n      <td>John</td>\n      <td>Smith</td>\n      <td>John Smith</td>\n      <td>John</td>\n      <td>Smith</td>\n    </tr>\n    <tr>\n      <th>3</th>\n      <td>notyourkakkar@avengers.com</td>\n      <td>Tony</td>\n      <td>Stark</td>\n      <td>NaN</td>\n      <td>NaN</td>\n      <td>NaN</td>\n    </tr>\n    <tr>\n      <th>4</th>\n      <td>itsyourcap@avengers.com</td>\n      <td>Steve</td>\n      <td>Rogers</td>\n      <td>NaN</td>\n      <td>NaN</td>\n      <td>NaN</td>\n    </tr>\n  </tbody>\n</table>\n</div>"
     },
     "metadata": {},
     "execution_count": 186
    }
   ],
   "source": [
    "df1"
   ]
  },
  {
   "cell_type": "code",
   "execution_count": 188,
   "metadata": {},
   "outputs": [
    {
     "output_type": "execute_result",
     "data": {
      "text/plain": [
       "                        email  first     last      full_name firstname  \\\n",
       "0      coreyschafer@gmail.com  Corey  Schafer  Corey Schafer     Corey   \n",
       "1        janedoodle@email.com   Jane   Doodle    Jane Doodle      Jane   \n",
       "2         johnsmith@gmail.com   John    Smith     John Smith      John   \n",
       "3  notyourkakkar@avengers.com   Tony    Stark            NaN       NaN   \n",
       "\n",
       "  lastname  \n",
       "0  Schafer  \n",
       "1   Doodle  \n",
       "2    Smith  \n",
       "3      NaN  "
      ],
      "text/html": "<div>\n<style scoped>\n    .dataframe tbody tr th:only-of-type {\n        vertical-align: middle;\n    }\n\n    .dataframe tbody tr th {\n        vertical-align: top;\n    }\n\n    .dataframe thead th {\n        text-align: right;\n    }\n</style>\n<table border=\"1\" class=\"dataframe\">\n  <thead>\n    <tr style=\"text-align: right;\">\n      <th></th>\n      <th>email</th>\n      <th>first</th>\n      <th>last</th>\n      <th>full_name</th>\n      <th>firstname</th>\n      <th>lastname</th>\n    </tr>\n  </thead>\n  <tbody>\n    <tr>\n      <th>0</th>\n      <td>coreyschafer@gmail.com</td>\n      <td>Corey</td>\n      <td>Schafer</td>\n      <td>Corey Schafer</td>\n      <td>Corey</td>\n      <td>Schafer</td>\n    </tr>\n    <tr>\n      <th>1</th>\n      <td>janedoodle@email.com</td>\n      <td>Jane</td>\n      <td>Doodle</td>\n      <td>Jane Doodle</td>\n      <td>Jane</td>\n      <td>Doodle</td>\n    </tr>\n    <tr>\n      <th>2</th>\n      <td>johnsmith@gmail.com</td>\n      <td>John</td>\n      <td>Smith</td>\n      <td>John Smith</td>\n      <td>John</td>\n      <td>Smith</td>\n    </tr>\n    <tr>\n      <th>3</th>\n      <td>notyourkakkar@avengers.com</td>\n      <td>Tony</td>\n      <td>Stark</td>\n      <td>NaN</td>\n      <td>NaN</td>\n      <td>NaN</td>\n    </tr>\n  </tbody>\n</table>\n</div>"
     },
     "metadata": {},
     "execution_count": 188
    }
   ],
   "source": [
    "# removing rows\n",
    "df1.drop(index=4)   # NOT INPLACE"
   ]
  },
  {
   "cell_type": "code",
   "execution_count": 193,
   "metadata": {},
   "outputs": [
    {
     "output_type": "stream",
     "name": "stdout",
     "text": [
      "0    False\n1     True\n2    False\n3    False\n4    False\nName: last, dtype: bool\n"
     ]
    },
    {
     "output_type": "execute_result",
     "data": {
      "text/plain": [
       "                        email  first     last      full_name firstname  \\\n",
       "0      coreyschafer@gmail.com  Corey  Schafer  Corey Schafer     Corey   \n",
       "2         johnsmith@gmail.com   John    Smith     John Smith      John   \n",
       "3  notyourkakkar@avengers.com   Tony    Stark            NaN       NaN   \n",
       "4     itsyourcap@avengers.com  Steve   Rogers            NaN       NaN   \n",
       "\n",
       "  lastname  \n",
       "0  Schafer  \n",
       "2    Smith  \n",
       "3      NaN  \n",
       "4      NaN  "
      ],
      "text/html": "<div>\n<style scoped>\n    .dataframe tbody tr th:only-of-type {\n        vertical-align: middle;\n    }\n\n    .dataframe tbody tr th {\n        vertical-align: top;\n    }\n\n    .dataframe thead th {\n        text-align: right;\n    }\n</style>\n<table border=\"1\" class=\"dataframe\">\n  <thead>\n    <tr style=\"text-align: right;\">\n      <th></th>\n      <th>email</th>\n      <th>first</th>\n      <th>last</th>\n      <th>full_name</th>\n      <th>firstname</th>\n      <th>lastname</th>\n    </tr>\n  </thead>\n  <tbody>\n    <tr>\n      <th>0</th>\n      <td>coreyschafer@gmail.com</td>\n      <td>Corey</td>\n      <td>Schafer</td>\n      <td>Corey Schafer</td>\n      <td>Corey</td>\n      <td>Schafer</td>\n    </tr>\n    <tr>\n      <th>2</th>\n      <td>johnsmith@gmail.com</td>\n      <td>John</td>\n      <td>Smith</td>\n      <td>John Smith</td>\n      <td>John</td>\n      <td>Smith</td>\n    </tr>\n    <tr>\n      <th>3</th>\n      <td>notyourkakkar@avengers.com</td>\n      <td>Tony</td>\n      <td>Stark</td>\n      <td>NaN</td>\n      <td>NaN</td>\n      <td>NaN</td>\n    </tr>\n    <tr>\n      <th>4</th>\n      <td>itsyourcap@avengers.com</td>\n      <td>Steve</td>\n      <td>Rogers</td>\n      <td>NaN</td>\n      <td>NaN</td>\n      <td>NaN</td>\n    </tr>\n  </tbody>\n</table>\n</div>"
     },
     "metadata": {},
     "execution_count": 193
    }
   ],
   "source": [
    "filt = df1['last'] == 'Doodle'\n",
    "print(filt)\n",
    "df1.drop(index=df1[filt].index)"
   ]
  },
  {
   "source": [
    "### Sorting data in pandas\n",
    "\n",
    "pass parameter as inplace=True for permanent shufflibg of value"
   ],
   "cell_type": "markdown",
   "metadata": {}
  },
  {
   "cell_type": "code",
   "execution_count": 196,
   "metadata": {},
   "outputs": [
    {
     "output_type": "execute_result",
     "data": {
      "text/plain": [
       "                        email  first     last      full_name firstname  \\\n",
       "0      coreyschafer@gmail.com  Corey  Schafer  Corey Schafer     Corey   \n",
       "1        janedoodle@email.com   Jane   Doodle    Jane Doodle      Jane   \n",
       "2         johnsmith@gmail.com   John    Smith     John Smith      John   \n",
       "3  notyourkakkar@avengers.com   Tony    Stark            NaN       NaN   \n",
       "4     itsyourcap@avengers.com  Steve   Rogers            NaN       NaN   \n",
       "\n",
       "  lastname  \n",
       "0  Schafer  \n",
       "1   Doodle  \n",
       "2    Smith  \n",
       "3      NaN  \n",
       "4      NaN  "
      ],
      "text/html": "<div>\n<style scoped>\n    .dataframe tbody tr th:only-of-type {\n        vertical-align: middle;\n    }\n\n    .dataframe tbody tr th {\n        vertical-align: top;\n    }\n\n    .dataframe thead th {\n        text-align: right;\n    }\n</style>\n<table border=\"1\" class=\"dataframe\">\n  <thead>\n    <tr style=\"text-align: right;\">\n      <th></th>\n      <th>email</th>\n      <th>first</th>\n      <th>last</th>\n      <th>full_name</th>\n      <th>firstname</th>\n      <th>lastname</th>\n    </tr>\n  </thead>\n  <tbody>\n    <tr>\n      <th>0</th>\n      <td>coreyschafer@gmail.com</td>\n      <td>Corey</td>\n      <td>Schafer</td>\n      <td>Corey Schafer</td>\n      <td>Corey</td>\n      <td>Schafer</td>\n    </tr>\n    <tr>\n      <th>1</th>\n      <td>janedoodle@email.com</td>\n      <td>Jane</td>\n      <td>Doodle</td>\n      <td>Jane Doodle</td>\n      <td>Jane</td>\n      <td>Doodle</td>\n    </tr>\n    <tr>\n      <th>2</th>\n      <td>johnsmith@gmail.com</td>\n      <td>John</td>\n      <td>Smith</td>\n      <td>John Smith</td>\n      <td>John</td>\n      <td>Smith</td>\n    </tr>\n    <tr>\n      <th>3</th>\n      <td>notyourkakkar@avengers.com</td>\n      <td>Tony</td>\n      <td>Stark</td>\n      <td>NaN</td>\n      <td>NaN</td>\n      <td>NaN</td>\n    </tr>\n    <tr>\n      <th>4</th>\n      <td>itsyourcap@avengers.com</td>\n      <td>Steve</td>\n      <td>Rogers</td>\n      <td>NaN</td>\n      <td>NaN</td>\n      <td>NaN</td>\n    </tr>\n  </tbody>\n</table>\n</div>"
     },
     "metadata": {},
     "execution_count": 196
    }
   ],
   "source": [
    "df1"
   ]
  },
  {
   "cell_type": "code",
   "execution_count": 197,
   "metadata": {},
   "outputs": [
    {
     "output_type": "execute_result",
     "data": {
      "text/plain": [
       "                        email  first     last      full_name firstname  \\\n",
       "1        janedoodle@email.com   Jane   Doodle    Jane Doodle      Jane   \n",
       "4     itsyourcap@avengers.com  Steve   Rogers            NaN       NaN   \n",
       "0      coreyschafer@gmail.com  Corey  Schafer  Corey Schafer     Corey   \n",
       "2         johnsmith@gmail.com   John    Smith     John Smith      John   \n",
       "3  notyourkakkar@avengers.com   Tony    Stark            NaN       NaN   \n",
       "\n",
       "  lastname  \n",
       "1   Doodle  \n",
       "4      NaN  \n",
       "0  Schafer  \n",
       "2    Smith  \n",
       "3      NaN  "
      ],
      "text/html": "<div>\n<style scoped>\n    .dataframe tbody tr th:only-of-type {\n        vertical-align: middle;\n    }\n\n    .dataframe tbody tr th {\n        vertical-align: top;\n    }\n\n    .dataframe thead th {\n        text-align: right;\n    }\n</style>\n<table border=\"1\" class=\"dataframe\">\n  <thead>\n    <tr style=\"text-align: right;\">\n      <th></th>\n      <th>email</th>\n      <th>first</th>\n      <th>last</th>\n      <th>full_name</th>\n      <th>firstname</th>\n      <th>lastname</th>\n    </tr>\n  </thead>\n  <tbody>\n    <tr>\n      <th>1</th>\n      <td>janedoodle@email.com</td>\n      <td>Jane</td>\n      <td>Doodle</td>\n      <td>Jane Doodle</td>\n      <td>Jane</td>\n      <td>Doodle</td>\n    </tr>\n    <tr>\n      <th>4</th>\n      <td>itsyourcap@avengers.com</td>\n      <td>Steve</td>\n      <td>Rogers</td>\n      <td>NaN</td>\n      <td>NaN</td>\n      <td>NaN</td>\n    </tr>\n    <tr>\n      <th>0</th>\n      <td>coreyschafer@gmail.com</td>\n      <td>Corey</td>\n      <td>Schafer</td>\n      <td>Corey Schafer</td>\n      <td>Corey</td>\n      <td>Schafer</td>\n    </tr>\n    <tr>\n      <th>2</th>\n      <td>johnsmith@gmail.com</td>\n      <td>John</td>\n      <td>Smith</td>\n      <td>John Smith</td>\n      <td>John</td>\n      <td>Smith</td>\n    </tr>\n    <tr>\n      <th>3</th>\n      <td>notyourkakkar@avengers.com</td>\n      <td>Tony</td>\n      <td>Stark</td>\n      <td>NaN</td>\n      <td>NaN</td>\n      <td>NaN</td>\n    </tr>\n  </tbody>\n</table>\n</div>"
     },
     "metadata": {},
     "execution_count": 197
    }
   ],
   "source": [
    "df1.sort_values(by = 'last')"
   ]
  },
  {
   "cell_type": "code",
   "execution_count": 198,
   "metadata": {},
   "outputs": [
    {
     "output_type": "execute_result",
     "data": {
      "text/plain": [
       "                        email  first     last      full_name firstname  \\\n",
       "3  notyourkakkar@avengers.com   Tony    Stark            NaN       NaN   \n",
       "2         johnsmith@gmail.com   John    Smith     John Smith      John   \n",
       "0      coreyschafer@gmail.com  Corey  Schafer  Corey Schafer     Corey   \n",
       "4     itsyourcap@avengers.com  Steve   Rogers            NaN       NaN   \n",
       "1        janedoodle@email.com   Jane   Doodle    Jane Doodle      Jane   \n",
       "\n",
       "  lastname  \n",
       "3      NaN  \n",
       "2    Smith  \n",
       "0  Schafer  \n",
       "4      NaN  \n",
       "1   Doodle  "
      ],
      "text/html": "<div>\n<style scoped>\n    .dataframe tbody tr th:only-of-type {\n        vertical-align: middle;\n    }\n\n    .dataframe tbody tr th {\n        vertical-align: top;\n    }\n\n    .dataframe thead th {\n        text-align: right;\n    }\n</style>\n<table border=\"1\" class=\"dataframe\">\n  <thead>\n    <tr style=\"text-align: right;\">\n      <th></th>\n      <th>email</th>\n      <th>first</th>\n      <th>last</th>\n      <th>full_name</th>\n      <th>firstname</th>\n      <th>lastname</th>\n    </tr>\n  </thead>\n  <tbody>\n    <tr>\n      <th>3</th>\n      <td>notyourkakkar@avengers.com</td>\n      <td>Tony</td>\n      <td>Stark</td>\n      <td>NaN</td>\n      <td>NaN</td>\n      <td>NaN</td>\n    </tr>\n    <tr>\n      <th>2</th>\n      <td>johnsmith@gmail.com</td>\n      <td>John</td>\n      <td>Smith</td>\n      <td>John Smith</td>\n      <td>John</td>\n      <td>Smith</td>\n    </tr>\n    <tr>\n      <th>0</th>\n      <td>coreyschafer@gmail.com</td>\n      <td>Corey</td>\n      <td>Schafer</td>\n      <td>Corey Schafer</td>\n      <td>Corey</td>\n      <td>Schafer</td>\n    </tr>\n    <tr>\n      <th>4</th>\n      <td>itsyourcap@avengers.com</td>\n      <td>Steve</td>\n      <td>Rogers</td>\n      <td>NaN</td>\n      <td>NaN</td>\n      <td>NaN</td>\n    </tr>\n    <tr>\n      <th>1</th>\n      <td>janedoodle@email.com</td>\n      <td>Jane</td>\n      <td>Doodle</td>\n      <td>Jane Doodle</td>\n      <td>Jane</td>\n      <td>Doodle</td>\n    </tr>\n  </tbody>\n</table>\n</div>"
     },
     "metadata": {},
     "execution_count": 198
    }
   ],
   "source": [
    "df1.sort_values(by = ['last', 'first'], ascending = False)"
   ]
  },
  {
   "cell_type": "code",
   "execution_count": 200,
   "metadata": {},
   "outputs": [
    {
     "output_type": "execute_result",
     "data": {
      "text/plain": [
       "                        email  first     last      full_name firstname  \\\n",
       "3  notyourkakkar@avengers.com   Tony    Stark            NaN       NaN   \n",
       "4     itsyourcap@avengers.com  Steve   Rogers            NaN       NaN   \n",
       "2         johnsmith@gmail.com   John    Smith     John Smith      John   \n",
       "1        janedoodle@email.com   Jane   Doodle    Jane Doodle      Jane   \n",
       "0      coreyschafer@gmail.com  Corey  Schafer  Corey Schafer     Corey   \n",
       "\n",
       "  lastname  \n",
       "3      NaN  \n",
       "4      NaN  \n",
       "2    Smith  \n",
       "1   Doodle  \n",
       "0  Schafer  "
      ],
      "text/html": "<div>\n<style scoped>\n    .dataframe tbody tr th:only-of-type {\n        vertical-align: middle;\n    }\n\n    .dataframe tbody tr th {\n        vertical-align: top;\n    }\n\n    .dataframe thead th {\n        text-align: right;\n    }\n</style>\n<table border=\"1\" class=\"dataframe\">\n  <thead>\n    <tr style=\"text-align: right;\">\n      <th></th>\n      <th>email</th>\n      <th>first</th>\n      <th>last</th>\n      <th>full_name</th>\n      <th>firstname</th>\n      <th>lastname</th>\n    </tr>\n  </thead>\n  <tbody>\n    <tr>\n      <th>3</th>\n      <td>notyourkakkar@avengers.com</td>\n      <td>Tony</td>\n      <td>Stark</td>\n      <td>NaN</td>\n      <td>NaN</td>\n      <td>NaN</td>\n    </tr>\n    <tr>\n      <th>4</th>\n      <td>itsyourcap@avengers.com</td>\n      <td>Steve</td>\n      <td>Rogers</td>\n      <td>NaN</td>\n      <td>NaN</td>\n      <td>NaN</td>\n    </tr>\n    <tr>\n      <th>2</th>\n      <td>johnsmith@gmail.com</td>\n      <td>John</td>\n      <td>Smith</td>\n      <td>John Smith</td>\n      <td>John</td>\n      <td>Smith</td>\n    </tr>\n    <tr>\n      <th>1</th>\n      <td>janedoodle@email.com</td>\n      <td>Jane</td>\n      <td>Doodle</td>\n      <td>Jane Doodle</td>\n      <td>Jane</td>\n      <td>Doodle</td>\n    </tr>\n    <tr>\n      <th>0</th>\n      <td>coreyschafer@gmail.com</td>\n      <td>Corey</td>\n      <td>Schafer</td>\n      <td>Corey Schafer</td>\n      <td>Corey</td>\n      <td>Schafer</td>\n    </tr>\n  </tbody>\n</table>\n</div>"
     },
     "metadata": {},
     "execution_count": 200
    }
   ],
   "source": [
    "df1.sort_values(by = ['first', 'last'], ascending = [False, True])"
   ]
  },
  {
   "source": [
    "# sorting by index. It is used to restore the DF in the original order of rows as per the internal index\n",
    "df1.sort_index()"
   ],
   "cell_type": "code",
   "metadata": {},
   "execution_count": 201,
   "outputs": [
    {
     "output_type": "execute_result",
     "data": {
      "text/plain": [
       "                        email  first     last      full_name firstname  \\\n",
       "0      coreyschafer@gmail.com  Corey  Schafer  Corey Schafer     Corey   \n",
       "1        janedoodle@email.com   Jane   Doodle    Jane Doodle      Jane   \n",
       "2         johnsmith@gmail.com   John    Smith     John Smith      John   \n",
       "3  notyourkakkar@avengers.com   Tony    Stark            NaN       NaN   \n",
       "4     itsyourcap@avengers.com  Steve   Rogers            NaN       NaN   \n",
       "\n",
       "  lastname  \n",
       "0  Schafer  \n",
       "1   Doodle  \n",
       "2    Smith  \n",
       "3      NaN  \n",
       "4      NaN  "
      ],
      "text/html": "<div>\n<style scoped>\n    .dataframe tbody tr th:only-of-type {\n        vertical-align: middle;\n    }\n\n    .dataframe tbody tr th {\n        vertical-align: top;\n    }\n\n    .dataframe thead th {\n        text-align: right;\n    }\n</style>\n<table border=\"1\" class=\"dataframe\">\n  <thead>\n    <tr style=\"text-align: right;\">\n      <th></th>\n      <th>email</th>\n      <th>first</th>\n      <th>last</th>\n      <th>full_name</th>\n      <th>firstname</th>\n      <th>lastname</th>\n    </tr>\n  </thead>\n  <tbody>\n    <tr>\n      <th>0</th>\n      <td>coreyschafer@gmail.com</td>\n      <td>Corey</td>\n      <td>Schafer</td>\n      <td>Corey Schafer</td>\n      <td>Corey</td>\n      <td>Schafer</td>\n    </tr>\n    <tr>\n      <th>1</th>\n      <td>janedoodle@email.com</td>\n      <td>Jane</td>\n      <td>Doodle</td>\n      <td>Jane Doodle</td>\n      <td>Jane</td>\n      <td>Doodle</td>\n    </tr>\n    <tr>\n      <th>2</th>\n      <td>johnsmith@gmail.com</td>\n      <td>John</td>\n      <td>Smith</td>\n      <td>John Smith</td>\n      <td>John</td>\n      <td>Smith</td>\n    </tr>\n    <tr>\n      <th>3</th>\n      <td>notyourkakkar@avengers.com</td>\n      <td>Tony</td>\n      <td>Stark</td>\n      <td>NaN</td>\n      <td>NaN</td>\n      <td>NaN</td>\n    </tr>\n    <tr>\n      <th>4</th>\n      <td>itsyourcap@avengers.com</td>\n      <td>Steve</td>\n      <td>Rogers</td>\n      <td>NaN</td>\n      <td>NaN</td>\n      <td>NaN</td>\n    </tr>\n  </tbody>\n</table>\n</div>"
     },
     "metadata": {},
     "execution_count": 201
    }
   ]
  },
  {
   "cell_type": "code",
   "execution_count": 202,
   "metadata": {},
   "outputs": [
    {
     "output_type": "execute_result",
     "data": {
      "text/plain": [
       "0        coreyschafer@gmail.com\n",
       "4       itsyourcap@avengers.com\n",
       "1          janedoodle@email.com\n",
       "2           johnsmith@gmail.com\n",
       "3    notyourkakkar@avengers.com\n",
       "Name: email, dtype: object"
      ]
     },
     "metadata": {},
     "execution_count": 202
    }
   ],
   "source": [
    "#viewing just sorted series of a dataframe\n",
    "df1['email'].sort_values()"
   ]
  },
  {
   "cell_type": "code",
   "execution_count": 203,
   "metadata": {},
   "outputs": [
    {
     "output_type": "execute_result",
     "data": {
      "text/plain": [
       "121     2000000.0\n",
       "123     2000000.0\n",
       "191     2000000.0\n",
       "663     2000000.0\n",
       "697     2000000.0\n",
       "722     2000000.0\n",
       "816     2000000.0\n",
       "982     2000000.0\n",
       "1018    2000000.0\n",
       "1032    2000000.0\n",
       "Name: ConvertedComp, dtype: float64"
      ]
     },
     "metadata": {},
     "execution_count": 203
    }
   ],
   "source": [
    "# displaying Nth largest values...\n",
    "# M1: df1[[col1, col2,....]].head(n)    where the dataframe is sorted\n",
    "# M2: below\n",
    "df['ConvertedComp'].nlargest(10)    # also there is nsmallest"
   ]
  },
  {
   "cell_type": "code",
   "execution_count": 204,
   "metadata": {},
   "outputs": [
    {
     "output_type": "execute_result",
     "data": {
      "text/plain": [
       "      Respondent                                         MainBranch Hobbyist  \\\n",
       "121        123.0                     I am a developer by profession      Yes   \n",
       "123        125.0  I am not primarily a developer, but I write co...      Yes   \n",
       "191        193.0                     I am a developer by profession      Yes   \n",
       "663        665.0                     I am a developer by profession      Yes   \n",
       "697        699.0  I am not primarily a developer, but I write co...      Yes   \n",
       "722        724.0  I am not primarily a developer, but I write co...      Yes   \n",
       "816        818.0  I am not primarily a developer, but I write co...      Yes   \n",
       "982        986.0                     I am a developer by profession      Yes   \n",
       "1018      1022.0                     I am a developer by profession      Yes   \n",
       "1032      1036.0                     I am a developer by profession      Yes   \n",
       "\n",
       "       Age Age1stCode CompFreq  ...  \\\n",
       "121   26.0         12   Weekly  ...   \n",
       "123   41.0         30  Monthly  ...   \n",
       "191   29.0         16   Weekly  ...   \n",
       "663   24.0         13   Weekly  ...   \n",
       "697   39.0         16   Weekly  ...   \n",
       "722    NaN         12   Weekly  ...   \n",
       "816   40.0         15   Weekly  ...   \n",
       "982   27.0         11   Weekly  ...   \n",
       "1018  34.0         16   Weekly  ...   \n",
       "1032  26.0         11   Weekly  ...   \n",
       "\n",
       "                          WebframeDesireNextYear  \\\n",
       "121                        Flask;jQuery;React.js   \n",
       "123                                          NaN   \n",
       "191                                          NaN   \n",
       "663                                     React.js   \n",
       "697   Angular;ASP.NET;ASP.NET Core;Express;Flask   \n",
       "722                                          NaN   \n",
       "816                         Angular;Flask;Spring   \n",
       "982                              Express;Laravel   \n",
       "1018                                    React.js   \n",
       "1032                         ASP.NET Core;Vue.js   \n",
       "\n",
       "                                     WebframeWorkedWith  \\\n",
       "121                                              Spring   \n",
       "123                                                 NaN   \n",
       "191                                                 NaN   \n",
       "663                      Express;React.js;Ruby on Rails   \n",
       "697                                                 NaN   \n",
       "722                                            React.js   \n",
       "816                                                 NaN   \n",
       "982                              Express;jQuery;Laravel   \n",
       "1018                 Angular;Angular.js;React.js;Vue.js   \n",
       "1032  Angular;ASP.NET;ASP.NET Core;Django;Express;Fl...   \n",
       "\n",
       "                                          WelcomeChange WorkWeekHrs YearsCode  \\\n",
       "121             Just as welcome now as I felt last year        36.0         8   \n",
       "123             Just as welcome now as I felt last year        40.0        11   \n",
       "191             Just as welcome now as I felt last year        40.0        13   \n",
       "663             Just as welcome now as I felt last year        40.0         4   \n",
       "697                                                 NaN        40.0         5   \n",
       "722   Not applicable - I did not use Stack Overflow ...        40.0         3   \n",
       "816            Somewhat less welcome now than last year        40.0        25   \n",
       "982             Just as welcome now as I felt last year        40.0        16   \n",
       "1018            Just as welcome now as I felt last year        40.0        18   \n",
       "1032              A lot more welcome now than last year        40.0         5   \n",
       "\n",
       "          YearsCodePro  \n",
       "121                  3  \n",
       "123                 11  \n",
       "191                  7  \n",
       "663   Less than 1 year  \n",
       "697                  2  \n",
       "722                  3  \n",
       "816                  2  \n",
       "982                  8  \n",
       "1018                13  \n",
       "1032                 3  \n",
       "\n",
       "[10 rows x 61 columns]"
      ],
      "text/html": "<div>\n<style scoped>\n    .dataframe tbody tr th:only-of-type {\n        vertical-align: middle;\n    }\n\n    .dataframe tbody tr th {\n        vertical-align: top;\n    }\n\n    .dataframe thead th {\n        text-align: right;\n    }\n</style>\n<table border=\"1\" class=\"dataframe\">\n  <thead>\n    <tr style=\"text-align: right;\">\n      <th></th>\n      <th>Respondent</th>\n      <th>MainBranch</th>\n      <th>Hobbyist</th>\n      <th>Age</th>\n      <th>Age1stCode</th>\n      <th>CompFreq</th>\n      <th>...</th>\n      <th>WebframeDesireNextYear</th>\n      <th>WebframeWorkedWith</th>\n      <th>WelcomeChange</th>\n      <th>WorkWeekHrs</th>\n      <th>YearsCode</th>\n      <th>YearsCodePro</th>\n    </tr>\n  </thead>\n  <tbody>\n    <tr>\n      <th>121</th>\n      <td>123.0</td>\n      <td>I am a developer by profession</td>\n      <td>Yes</td>\n      <td>26.0</td>\n      <td>12</td>\n      <td>Weekly</td>\n      <td>...</td>\n      <td>Flask;jQuery;React.js</td>\n      <td>Spring</td>\n      <td>Just as welcome now as I felt last year</td>\n      <td>36.0</td>\n      <td>8</td>\n      <td>3</td>\n    </tr>\n    <tr>\n      <th>123</th>\n      <td>125.0</td>\n      <td>I am not primarily a developer, but I write co...</td>\n      <td>Yes</td>\n      <td>41.0</td>\n      <td>30</td>\n      <td>Monthly</td>\n      <td>...</td>\n      <td>NaN</td>\n      <td>NaN</td>\n      <td>Just as welcome now as I felt last year</td>\n      <td>40.0</td>\n      <td>11</td>\n      <td>11</td>\n    </tr>\n    <tr>\n      <th>191</th>\n      <td>193.0</td>\n      <td>I am a developer by profession</td>\n      <td>Yes</td>\n      <td>29.0</td>\n      <td>16</td>\n      <td>Weekly</td>\n      <td>...</td>\n      <td>NaN</td>\n      <td>NaN</td>\n      <td>Just as welcome now as I felt last year</td>\n      <td>40.0</td>\n      <td>13</td>\n      <td>7</td>\n    </tr>\n    <tr>\n      <th>663</th>\n      <td>665.0</td>\n      <td>I am a developer by profession</td>\n      <td>Yes</td>\n      <td>24.0</td>\n      <td>13</td>\n      <td>Weekly</td>\n      <td>...</td>\n      <td>React.js</td>\n      <td>Express;React.js;Ruby on Rails</td>\n      <td>Just as welcome now as I felt last year</td>\n      <td>40.0</td>\n      <td>4</td>\n      <td>Less than 1 year</td>\n    </tr>\n    <tr>\n      <th>697</th>\n      <td>699.0</td>\n      <td>I am not primarily a developer, but I write co...</td>\n      <td>Yes</td>\n      <td>39.0</td>\n      <td>16</td>\n      <td>Weekly</td>\n      <td>...</td>\n      <td>Angular;ASP.NET;ASP.NET Core;Express;Flask</td>\n      <td>NaN</td>\n      <td>NaN</td>\n      <td>40.0</td>\n      <td>5</td>\n      <td>2</td>\n    </tr>\n    <tr>\n      <th>722</th>\n      <td>724.0</td>\n      <td>I am not primarily a developer, but I write co...</td>\n      <td>Yes</td>\n      <td>NaN</td>\n      <td>12</td>\n      <td>Weekly</td>\n      <td>...</td>\n      <td>NaN</td>\n      <td>React.js</td>\n      <td>Not applicable - I did not use Stack Overflow ...</td>\n      <td>40.0</td>\n      <td>3</td>\n      <td>3</td>\n    </tr>\n    <tr>\n      <th>816</th>\n      <td>818.0</td>\n      <td>I am not primarily a developer, but I write co...</td>\n      <td>Yes</td>\n      <td>40.0</td>\n      <td>15</td>\n      <td>Weekly</td>\n      <td>...</td>\n      <td>Angular;Flask;Spring</td>\n      <td>NaN</td>\n      <td>Somewhat less welcome now than last year</td>\n      <td>40.0</td>\n      <td>25</td>\n      <td>2</td>\n    </tr>\n    <tr>\n      <th>982</th>\n      <td>986.0</td>\n      <td>I am a developer by profession</td>\n      <td>Yes</td>\n      <td>27.0</td>\n      <td>11</td>\n      <td>Weekly</td>\n      <td>...</td>\n      <td>Express;Laravel</td>\n      <td>Express;jQuery;Laravel</td>\n      <td>Just as welcome now as I felt last year</td>\n      <td>40.0</td>\n      <td>16</td>\n      <td>8</td>\n    </tr>\n    <tr>\n      <th>1018</th>\n      <td>1022.0</td>\n      <td>I am a developer by profession</td>\n      <td>Yes</td>\n      <td>34.0</td>\n      <td>16</td>\n      <td>Weekly</td>\n      <td>...</td>\n      <td>React.js</td>\n      <td>Angular;Angular.js;React.js;Vue.js</td>\n      <td>Just as welcome now as I felt last year</td>\n      <td>40.0</td>\n      <td>18</td>\n      <td>13</td>\n    </tr>\n    <tr>\n      <th>1032</th>\n      <td>1036.0</td>\n      <td>I am a developer by profession</td>\n      <td>Yes</td>\n      <td>26.0</td>\n      <td>11</td>\n      <td>Weekly</td>\n      <td>...</td>\n      <td>ASP.NET Core;Vue.js</td>\n      <td>Angular;ASP.NET;ASP.NET Core;Django;Express;Fl...</td>\n      <td>A lot more welcome now than last year</td>\n      <td>40.0</td>\n      <td>5</td>\n      <td>3</td>\n    </tr>\n  </tbody>\n</table>\n<p>10 rows × 61 columns</p>\n</div>"
     },
     "metadata": {},
     "execution_count": 204
    }
   ],
   "source": [
    "df.nlargest(10, 'ConvertedComp')    # also there is nsmallest"
   ]
  }
 ]
}